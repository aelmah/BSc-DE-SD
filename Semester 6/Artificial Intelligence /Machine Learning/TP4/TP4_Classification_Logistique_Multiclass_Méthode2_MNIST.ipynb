{
 "cells": [
  {
   "cell_type": "markdown",
   "id": "8ef705c4-54bb-476d-adb7-9af0e55fb1b3",
   "metadata": {},
   "source": [
    "#### TP4 : Classification Logistique Multiclass "
   ]
  },
  {
   "cell_type": "markdown",
   "id": "fac6f5fd-65d7-46dd-aa9e-ef17f6f37abd",
   "metadata": {},
   "source": [
    "##### Méthode 1"
   ]
  },
  {
   "cell_type": "code",
   "execution_count": 1,
   "id": "14160a47-379f-452d-8441-32df01226427",
   "metadata": {},
   "outputs": [],
   "source": [
    "import pandas as pd \n",
    "from sklearn.datasets import load_iris\n",
    "from sklearn.preprocessing import RobustScaler\n",
    "from sklearn.decomposition import PCA\n",
    "from sklearn.model_selection import train_test_split"
   ]
  },
  {
   "cell_type": "code",
   "execution_count": null,
   "id": "466ad11e-e2fb-483d-9058-e68032f2d982",
   "metadata": {},
   "outputs": [],
   "source": []
  }
 ],
 "metadata": {
  "kernelspec": {
   "display_name": "Python 3 (ipykernel)",
   "language": "python",
   "name": "python3"
  },
  "language_info": {
   "codemirror_mode": {
    "name": "ipython",
    "version": 3
   },
   "file_extension": ".py",
   "mimetype": "text/x-python",
   "name": "python",
   "nbconvert_exporter": "python",
   "pygments_lexer": "ipython3",
   "version": "3.11.5"
  }
 },
 "nbformat": 4,
 "nbformat_minor": 5
}
