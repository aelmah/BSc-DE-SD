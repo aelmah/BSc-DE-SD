{
 "cells": [
  {
   "cell_type": "markdown",
   "id": "fb3a0b2b-8048-4789-8519-ae09a5422337",
   "metadata": {},
   "source": [
    "#### TP3 : Régression logistique avec ' Desicion Tree'"
   ]
  },
  {
   "cell_type": "markdown",
   "id": "9ca0aaf6-8d79-4106-9fbd-050c17aa2ffd",
   "metadata": {},
   "source": [
    "* Dataset : Iris"
   ]
  },
  {
   "cell_type": "markdown",
   "id": "7806af5e-6c94-4717-bcfd-425eab17ee34",
   "metadata": {},
   "source": [
    "##### Bibliothèques "
   ]
  },
  {
   "cell_type": "code",
   "execution_count": 1,
   "id": "1a9b6a90-8efd-420c-9567-660f23dee988",
   "metadata": {},
   "outputs": [],
   "source": [
    "from sklearn.datasets import load_iris\n",
    "from sklearn.preprocessing import RobustScaler\n",
    "from sklearn.decomposition import PCA\n",
    "from sklearn.model_selection import train_test_split\n",
    "from sklearn.tree import DecisionTreeClassifier\n",
    "from sklearn.metrics import confusion_matrix, accuracy_score, precision_score, recall_score, f1_score\n"
   ]
  },
  {
   "cell_type": "markdown",
   "id": "89acf754-d63e-4bf7-8698-35dddf657312",
   "metadata": {},
   "source": [
    "1- Chargement de jeu de données"
   ]
  },
  {
   "cell_type": "code",
   "execution_count": 2,
   "id": "fdaa8bf2-e481-4bcb-b96d-043b2207ade3",
   "metadata": {},
   "outputs": [],
   "source": [
    "iris = load_iris()\n",
    "X = iris.data\n",
    "y = iris.target"
   ]
  },
  {
   "cell_type": "markdown",
   "id": "f2ee182d-cd4a-4cca-bacb-d439fb6bd584",
   "metadata": {},
   "source": [
    "2- Normalisation des données avec RobustScaler"
   ]
  },
  {
   "cell_type": "code",
   "execution_count": 3,
   "id": "c396e1d4-4639-4dfa-a830-8f8f2c1dcfa0",
   "metadata": {},
   "outputs": [],
   "source": [
    "scaler = RobustScaler()\n",
    "X_scaled = scaler.fit_transform(X)"
   ]
  },
  {
   "cell_type": "markdown",
   "id": "460fe948-239e-4266-962c-68dd058e751b",
   "metadata": {},
   "source": [
    "3- Réduction des variables indépendantes en 3 composantes en utilisant PCA"
   ]
  },
  {
   "cell_type": "code",
   "execution_count": 4,
   "id": "8e331a42-08f0-4dce-9080-521472dbc22c",
   "metadata": {},
   "outputs": [],
   "source": [
    "pca = PCA(n_components=3)\n",
    "X_pca = pca.fit_transform(X_scaled)"
   ]
  },
  {
   "cell_type": "markdown",
   "id": "aa4d09c9-ab6f-4038-8102-ba298ff8e846",
   "metadata": {},
   "source": [
    "4- Division des données en ensembles d'entraînement et de test"
   ]
  },
  {
   "cell_type": "code",
   "execution_count": 5,
   "id": "8a4db904-cfad-4764-8c86-2ea1571adc43",
   "metadata": {},
   "outputs": [],
   "source": [
    "X_train, X_test, y_train, y_test = train_test_split(X_pca, y, test_size=0.2, random_state=42)"
   ]
  },
  {
   "cell_type": "markdown",
   "id": "583b49ab-0819-4818-8f46-db21dc753662",
   "metadata": {},
   "source": [
    "5- Création du modèle Decision Tree "
   ]
  },
  {
   "cell_type": "code",
   "execution_count": 6,
   "id": "4a4ab477-1770-400e-958f-f4d9cf289202",
   "metadata": {},
   "outputs": [
    {
     "data": {
      "text/html": [
       "<style>#sk-container-id-1 {color: black;}#sk-container-id-1 pre{padding: 0;}#sk-container-id-1 div.sk-toggleable {background-color: white;}#sk-container-id-1 label.sk-toggleable__label {cursor: pointer;display: block;width: 100%;margin-bottom: 0;padding: 0.3em;box-sizing: border-box;text-align: center;}#sk-container-id-1 label.sk-toggleable__label-arrow:before {content: \"▸\";float: left;margin-right: 0.25em;color: #696969;}#sk-container-id-1 label.sk-toggleable__label-arrow:hover:before {color: black;}#sk-container-id-1 div.sk-estimator:hover label.sk-toggleable__label-arrow:before {color: black;}#sk-container-id-1 div.sk-toggleable__content {max-height: 0;max-width: 0;overflow: hidden;text-align: left;background-color: #f0f8ff;}#sk-container-id-1 div.sk-toggleable__content pre {margin: 0.2em;color: black;border-radius: 0.25em;background-color: #f0f8ff;}#sk-container-id-1 input.sk-toggleable__control:checked~div.sk-toggleable__content {max-height: 200px;max-width: 100%;overflow: auto;}#sk-container-id-1 input.sk-toggleable__control:checked~label.sk-toggleable__label-arrow:before {content: \"▾\";}#sk-container-id-1 div.sk-estimator input.sk-toggleable__control:checked~label.sk-toggleable__label {background-color: #d4ebff;}#sk-container-id-1 div.sk-label input.sk-toggleable__control:checked~label.sk-toggleable__label {background-color: #d4ebff;}#sk-container-id-1 input.sk-hidden--visually {border: 0;clip: rect(1px 1px 1px 1px);clip: rect(1px, 1px, 1px, 1px);height: 1px;margin: -1px;overflow: hidden;padding: 0;position: absolute;width: 1px;}#sk-container-id-1 div.sk-estimator {font-family: monospace;background-color: #f0f8ff;border: 1px dotted black;border-radius: 0.25em;box-sizing: border-box;margin-bottom: 0.5em;}#sk-container-id-1 div.sk-estimator:hover {background-color: #d4ebff;}#sk-container-id-1 div.sk-parallel-item::after {content: \"\";width: 100%;border-bottom: 1px solid gray;flex-grow: 1;}#sk-container-id-1 div.sk-label:hover label.sk-toggleable__label {background-color: #d4ebff;}#sk-container-id-1 div.sk-serial::before {content: \"\";position: absolute;border-left: 1px solid gray;box-sizing: border-box;top: 0;bottom: 0;left: 50%;z-index: 0;}#sk-container-id-1 div.sk-serial {display: flex;flex-direction: column;align-items: center;background-color: white;padding-right: 0.2em;padding-left: 0.2em;position: relative;}#sk-container-id-1 div.sk-item {position: relative;z-index: 1;}#sk-container-id-1 div.sk-parallel {display: flex;align-items: stretch;justify-content: center;background-color: white;position: relative;}#sk-container-id-1 div.sk-item::before, #sk-container-id-1 div.sk-parallel-item::before {content: \"\";position: absolute;border-left: 1px solid gray;box-sizing: border-box;top: 0;bottom: 0;left: 50%;z-index: -1;}#sk-container-id-1 div.sk-parallel-item {display: flex;flex-direction: column;z-index: 1;position: relative;background-color: white;}#sk-container-id-1 div.sk-parallel-item:first-child::after {align-self: flex-end;width: 50%;}#sk-container-id-1 div.sk-parallel-item:last-child::after {align-self: flex-start;width: 50%;}#sk-container-id-1 div.sk-parallel-item:only-child::after {width: 0;}#sk-container-id-1 div.sk-dashed-wrapped {border: 1px dashed gray;margin: 0 0.4em 0.5em 0.4em;box-sizing: border-box;padding-bottom: 0.4em;background-color: white;}#sk-container-id-1 div.sk-label label {font-family: monospace;font-weight: bold;display: inline-block;line-height: 1.2em;}#sk-container-id-1 div.sk-label-container {text-align: center;}#sk-container-id-1 div.sk-container {/* jupyter's `normalize.less` sets `[hidden] { display: none; }` but bootstrap.min.css set `[hidden] { display: none !important; }` so we also need the `!important` here to be able to override the default hidden behavior on the sphinx rendered scikit-learn.org. See: https://github.com/scikit-learn/scikit-learn/issues/21755 */display: inline-block !important;position: relative;}#sk-container-id-1 div.sk-text-repr-fallback {display: none;}</style><div id=\"sk-container-id-1\" class=\"sk-top-container\"><div class=\"sk-text-repr-fallback\"><pre>DecisionTreeClassifier()</pre><b>In a Jupyter environment, please rerun this cell to show the HTML representation or trust the notebook. <br />On GitHub, the HTML representation is unable to render, please try loading this page with nbviewer.org.</b></div><div class=\"sk-container\" hidden><div class=\"sk-item\"><div class=\"sk-estimator sk-toggleable\"><input class=\"sk-toggleable__control sk-hidden--visually\" id=\"sk-estimator-id-1\" type=\"checkbox\" checked><label for=\"sk-estimator-id-1\" class=\"sk-toggleable__label sk-toggleable__label-arrow\">DecisionTreeClassifier</label><div class=\"sk-toggleable__content\"><pre>DecisionTreeClassifier()</pre></div></div></div></div></div>"
      ],
      "text/plain": [
       "DecisionTreeClassifier()"
      ]
     },
     "execution_count": 6,
     "metadata": {},
     "output_type": "execute_result"
    }
   ],
   "source": [
    "tree_model = DecisionTreeClassifier()\n",
    "tree_model.fit(X_train, y_train)"
   ]
  },
  {
   "cell_type": "markdown",
   "id": "cb835400-9eff-4b01-bda5-aca55a928251",
   "metadata": {},
   "source": [
    "6- les prédictions"
   ]
  },
  {
   "cell_type": "code",
   "execution_count": 7,
   "id": "a5e3979c-e39b-47f1-8a3c-7aeded140550",
   "metadata": {},
   "outputs": [],
   "source": [
    "y_pred_tree = tree_model.predict(X_test)"
   ]
  },
  {
   "cell_type": "markdown",
   "id": "61c80dc4-c764-4b71-9e4a-b60bee579a71",
   "metadata": {},
   "source": [
    "7- Calcule de la matrice de confusion"
   ]
  },
  {
   "cell_type": "code",
   "execution_count": 8,
   "id": "def9044f-6cba-4b66-b6f1-d33ee4470809",
   "metadata": {},
   "outputs": [],
   "source": [
    "confusion_matrix_tree = confusion_matrix(y_test, y_pred_tree)"
   ]
  },
  {
   "cell_type": "markdown",
   "id": "131c721c-079a-4c8e-8324-aef8e8cf15e7",
   "metadata": {},
   "source": [
    "8- Calcule des quatre métriques d'évaluation"
   ]
  },
  {
   "cell_type": "code",
   "execution_count": 9,
   "id": "9e1d2a82-893d-4a29-9472-7365873866a1",
   "metadata": {},
   "outputs": [],
   "source": [
    "accuracy_tree = accuracy_score(y_test, y_pred_tree)\n",
    "precision_tree = precision_score(y_test, y_pred_tree, average='weighted')\n",
    "recall_tree = recall_score(y_test, y_pred_tree, average='weighted')\n",
    "f1_tree = f1_score(y_test, y_pred_tree, average='weighted')"
   ]
  },
  {
   "cell_type": "markdown",
   "id": "43f6856a-105c-41d5-a347-99211fa897d3",
   "metadata": {},
   "source": [
    "9- Affichage des résultats"
   ]
  },
  {
   "cell_type": "code",
   "execution_count": 10,
   "id": "f74451e0-1c86-4934-90da-7d2b8ccc8fa8",
   "metadata": {},
   "outputs": [
    {
     "name": "stdout",
     "output_type": "stream",
     "text": [
      "Matrice de confusion pour l'arbre de décision :\n",
      " [[10  0  0]\n",
      " [ 0  7  2]\n",
      " [ 0  2  9]]\n",
      "Accuracy :  0.8666666666666667\n",
      "Precision :  0.8666666666666667\n",
      "Recall :  0.8666666666666667\n",
      "F1 Score :  0.8666666666666667\n"
     ]
    }
   ],
   "source": [
    "print(\"Matrice de confusion pour l'arbre de décision :\\n\", confusion_matrix_tree)\n",
    "print(\"Accuracy : \", accuracy_tree)\n",
    "print(\"Precision : \", precision_tree)\n",
    "print(\"Recall : \", recall_tree)\n",
    "print(\"F1 Score : \", f1_tree)"
   ]
  }
 ],
 "metadata": {
  "kernelspec": {
   "display_name": "Python 3 (ipykernel)",
   "language": "python",
   "name": "python3"
  },
  "language_info": {
   "codemirror_mode": {
    "name": "ipython",
    "version": 3
   },
   "file_extension": ".py",
   "mimetype": "text/x-python",
   "name": "python",
   "nbconvert_exporter": "python",
   "pygments_lexer": "ipython3",
   "version": "3.11.5"
  }
 },
 "nbformat": 4,
 "nbformat_minor": 5
}
