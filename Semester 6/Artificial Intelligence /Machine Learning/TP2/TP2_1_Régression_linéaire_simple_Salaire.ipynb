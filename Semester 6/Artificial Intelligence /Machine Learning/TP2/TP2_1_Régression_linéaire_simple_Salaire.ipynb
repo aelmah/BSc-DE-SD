{
 "cells": [
  {
   "cell_type": "markdown",
   "id": "e3d406da-c3a2-43d2-9eac-09dcca6e5bbe",
   "metadata": {},
   "source": [
    "#### TP2: Regression linéaire simple "
   ]
  },
  {
   "cell_type": "code",
   "execution_count": 14,
   "id": "5a44fd96-0314-443e-a127-dc87a3c4f0fc",
   "metadata": {},
   "outputs": [],
   "source": [
    "import pandas as pd \n",
    "import numpy as np \n",
    "import matplotlib.pyplot as plt "
   ]
  },
  {
   "cell_type": "code",
   "execution_count": 15,
   "id": "6f8e6194-7814-4f3e-8986-54ead819d24e",
   "metadata": {},
   "outputs": [],
   "source": [
    "from sklearn import preprocessing \n",
    "from sklearn.model_selection import train_test_split\n",
    "from sklearn import linear_model\n",
    "from sklearn import metrics\n",
    "from sklearn.preprocessing import RobustScaler\n",
    "from sklearn.metrics import mean_absolute_error, mean_squared_error, r2_score"
   ]
  },
  {
   "cell_type": "markdown",
   "id": "47c34382-bc88-4822-8ce1-dd3b8bc541d4",
   "metadata": {},
   "source": [
    "### Chargement des données "
   ]
  },
  {
   "cell_type": "code",
   "execution_count": 16,
   "id": "10c2057c-ed4c-4f55-b869-e413e8e79829",
   "metadata": {},
   "outputs": [
    {
     "data": {
      "text/html": [
       "<div>\n",
       "<style scoped>\n",
       "    .dataframe tbody tr th:only-of-type {\n",
       "        vertical-align: middle;\n",
       "    }\n",
       "\n",
       "    .dataframe tbody tr th {\n",
       "        vertical-align: top;\n",
       "    }\n",
       "\n",
       "    .dataframe thead th {\n",
       "        text-align: right;\n",
       "    }\n",
       "</style>\n",
       "<table border=\"1\" class=\"dataframe\">\n",
       "  <thead>\n",
       "    <tr style=\"text-align: right;\">\n",
       "      <th></th>\n",
       "      <th>AnneesExpérience</th>\n",
       "      <th>Salaire</th>\n",
       "    </tr>\n",
       "  </thead>\n",
       "  <tbody>\n",
       "    <tr>\n",
       "      <th>0</th>\n",
       "      <td>1.1</td>\n",
       "      <td>39343.0</td>\n",
       "    </tr>\n",
       "    <tr>\n",
       "      <th>1</th>\n",
       "      <td>1.3</td>\n",
       "      <td>46205.0</td>\n",
       "    </tr>\n",
       "    <tr>\n",
       "      <th>2</th>\n",
       "      <td>1.5</td>\n",
       "      <td>37731.0</td>\n",
       "    </tr>\n",
       "    <tr>\n",
       "      <th>3</th>\n",
       "      <td>2.0</td>\n",
       "      <td>43525.0</td>\n",
       "    </tr>\n",
       "    <tr>\n",
       "      <th>4</th>\n",
       "      <td>2.2</td>\n",
       "      <td>39891.0</td>\n",
       "    </tr>\n",
       "    <tr>\n",
       "      <th>5</th>\n",
       "      <td>2.9</td>\n",
       "      <td>56642.0</td>\n",
       "    </tr>\n",
       "    <tr>\n",
       "      <th>6</th>\n",
       "      <td>3.0</td>\n",
       "      <td>60150.0</td>\n",
       "    </tr>\n",
       "    <tr>\n",
       "      <th>7</th>\n",
       "      <td>3.2</td>\n",
       "      <td>54445.0</td>\n",
       "    </tr>\n",
       "    <tr>\n",
       "      <th>8</th>\n",
       "      <td>3.2</td>\n",
       "      <td>64445.0</td>\n",
       "    </tr>\n",
       "    <tr>\n",
       "      <th>9</th>\n",
       "      <td>3.7</td>\n",
       "      <td>57189.0</td>\n",
       "    </tr>\n",
       "    <tr>\n",
       "      <th>10</th>\n",
       "      <td>3.9</td>\n",
       "      <td>63218.0</td>\n",
       "    </tr>\n",
       "    <tr>\n",
       "      <th>11</th>\n",
       "      <td>4.0</td>\n",
       "      <td>55794.0</td>\n",
       "    </tr>\n",
       "    <tr>\n",
       "      <th>12</th>\n",
       "      <td>4.0</td>\n",
       "      <td>56957.0</td>\n",
       "    </tr>\n",
       "    <tr>\n",
       "      <th>13</th>\n",
       "      <td>4.1</td>\n",
       "      <td>57081.0</td>\n",
       "    </tr>\n",
       "    <tr>\n",
       "      <th>14</th>\n",
       "      <td>4.5</td>\n",
       "      <td>61111.0</td>\n",
       "    </tr>\n",
       "    <tr>\n",
       "      <th>15</th>\n",
       "      <td>4.9</td>\n",
       "      <td>67938.0</td>\n",
       "    </tr>\n",
       "    <tr>\n",
       "      <th>16</th>\n",
       "      <td>5.1</td>\n",
       "      <td>66029.0</td>\n",
       "    </tr>\n",
       "    <tr>\n",
       "      <th>17</th>\n",
       "      <td>5.3</td>\n",
       "      <td>83088.0</td>\n",
       "    </tr>\n",
       "    <tr>\n",
       "      <th>18</th>\n",
       "      <td>5.9</td>\n",
       "      <td>81363.0</td>\n",
       "    </tr>\n",
       "    <tr>\n",
       "      <th>19</th>\n",
       "      <td>6.0</td>\n",
       "      <td>93940.0</td>\n",
       "    </tr>\n",
       "    <tr>\n",
       "      <th>20</th>\n",
       "      <td>6.8</td>\n",
       "      <td>91738.0</td>\n",
       "    </tr>\n",
       "    <tr>\n",
       "      <th>21</th>\n",
       "      <td>7.1</td>\n",
       "      <td>98273.0</td>\n",
       "    </tr>\n",
       "    <tr>\n",
       "      <th>22</th>\n",
       "      <td>7.9</td>\n",
       "      <td>101302.0</td>\n",
       "    </tr>\n",
       "    <tr>\n",
       "      <th>23</th>\n",
       "      <td>8.2</td>\n",
       "      <td>113812.0</td>\n",
       "    </tr>\n",
       "    <tr>\n",
       "      <th>24</th>\n",
       "      <td>8.7</td>\n",
       "      <td>109431.0</td>\n",
       "    </tr>\n",
       "    <tr>\n",
       "      <th>25</th>\n",
       "      <td>9.0</td>\n",
       "      <td>105582.0</td>\n",
       "    </tr>\n",
       "    <tr>\n",
       "      <th>26</th>\n",
       "      <td>9.5</td>\n",
       "      <td>116969.0</td>\n",
       "    </tr>\n",
       "    <tr>\n",
       "      <th>27</th>\n",
       "      <td>9.6</td>\n",
       "      <td>112635.0</td>\n",
       "    </tr>\n",
       "    <tr>\n",
       "      <th>28</th>\n",
       "      <td>10.3</td>\n",
       "      <td>122391.0</td>\n",
       "    </tr>\n",
       "    <tr>\n",
       "      <th>29</th>\n",
       "      <td>10.5</td>\n",
       "      <td>121872.0</td>\n",
       "    </tr>\n",
       "  </tbody>\n",
       "</table>\n",
       "</div>"
      ],
      "text/plain": [
       "    AnneesExpérience   Salaire\n",
       "0                1.1   39343.0\n",
       "1                1.3   46205.0\n",
       "2                1.5   37731.0\n",
       "3                2.0   43525.0\n",
       "4                2.2   39891.0\n",
       "5                2.9   56642.0\n",
       "6                3.0   60150.0\n",
       "7                3.2   54445.0\n",
       "8                3.2   64445.0\n",
       "9                3.7   57189.0\n",
       "10               3.9   63218.0\n",
       "11               4.0   55794.0\n",
       "12               4.0   56957.0\n",
       "13               4.1   57081.0\n",
       "14               4.5   61111.0\n",
       "15               4.9   67938.0\n",
       "16               5.1   66029.0\n",
       "17               5.3   83088.0\n",
       "18               5.9   81363.0\n",
       "19               6.0   93940.0\n",
       "20               6.8   91738.0\n",
       "21               7.1   98273.0\n",
       "22               7.9  101302.0\n",
       "23               8.2  113812.0\n",
       "24               8.7  109431.0\n",
       "25               9.0  105582.0\n",
       "26               9.5  116969.0\n",
       "27               9.6  112635.0\n",
       "28              10.3  122391.0\n",
       "29              10.5  121872.0"
      ]
     },
     "execution_count": 16,
     "metadata": {},
     "output_type": "execute_result"
    }
   ],
   "source": [
    "df = pd.read_csv('datasets/salaire.csv')\n",
    "df"
   ]
  },
  {
   "cell_type": "markdown",
   "id": "49930657-65c9-4828-aee1-d11a6f6af080",
   "metadata": {},
   "source": [
    "#### Affichage des cinq premières lignes "
   ]
  },
  {
   "cell_type": "code",
   "execution_count": 17,
   "id": "60d953ae-adaa-4eb7-8f11-086f81b6faa3",
   "metadata": {},
   "outputs": [
    {
     "data": {
      "text/html": [
       "<div>\n",
       "<style scoped>\n",
       "    .dataframe tbody tr th:only-of-type {\n",
       "        vertical-align: middle;\n",
       "    }\n",
       "\n",
       "    .dataframe tbody tr th {\n",
       "        vertical-align: top;\n",
       "    }\n",
       "\n",
       "    .dataframe thead th {\n",
       "        text-align: right;\n",
       "    }\n",
       "</style>\n",
       "<table border=\"1\" class=\"dataframe\">\n",
       "  <thead>\n",
       "    <tr style=\"text-align: right;\">\n",
       "      <th></th>\n",
       "      <th>AnneesExpérience</th>\n",
       "      <th>Salaire</th>\n",
       "    </tr>\n",
       "  </thead>\n",
       "  <tbody>\n",
       "    <tr>\n",
       "      <th>0</th>\n",
       "      <td>1.1</td>\n",
       "      <td>39343.0</td>\n",
       "    </tr>\n",
       "    <tr>\n",
       "      <th>1</th>\n",
       "      <td>1.3</td>\n",
       "      <td>46205.0</td>\n",
       "    </tr>\n",
       "    <tr>\n",
       "      <th>2</th>\n",
       "      <td>1.5</td>\n",
       "      <td>37731.0</td>\n",
       "    </tr>\n",
       "    <tr>\n",
       "      <th>3</th>\n",
       "      <td>2.0</td>\n",
       "      <td>43525.0</td>\n",
       "    </tr>\n",
       "    <tr>\n",
       "      <th>4</th>\n",
       "      <td>2.2</td>\n",
       "      <td>39891.0</td>\n",
       "    </tr>\n",
       "  </tbody>\n",
       "</table>\n",
       "</div>"
      ],
      "text/plain": [
       "   AnneesExpérience  Salaire\n",
       "0               1.1  39343.0\n",
       "1               1.3  46205.0\n",
       "2               1.5  37731.0\n",
       "3               2.0  43525.0\n",
       "4               2.2  39891.0"
      ]
     },
     "execution_count": 17,
     "metadata": {},
     "output_type": "execute_result"
    }
   ],
   "source": [
    "df.head(5) "
   ]
  },
  {
   "cell_type": "markdown",
   "id": "bd924f85-5ada-42da-a666-1605d21d446d",
   "metadata": {},
   "source": [
    "#### Création d'un nuage de points "
   ]
  },
  {
   "cell_type": "code",
   "execution_count": 18,
   "id": "3f5f3e7c-87b5-4d6c-b56f-9524cabc562b",
   "metadata": {},
   "outputs": [
    {
     "data": {
      "image/png": "[encoded data removed]",
      "text/plain": [
       "<Figure size 640x480 with 1 Axes>"
      ]
     },
     "metadata": {},
     "output_type": "display_data"
    }
   ],
   "source": [
    "# Nuage de points\n",
    "plt.scatter(df['AnneesExpérience'], df['Salaire'])\n",
    "plt.title('Nuage de points - Années d\\'expérience vs Salaire')\n",
    "plt.xlabel('Années d\\'expérience')\n",
    "plt.ylabel('Salaire')\n",
    "plt.show()"
   ]
  },
  {
   "cell_type": "markdown",
   "id": "aad3ccef-8db3-4396-a6c9-a8dee4e041ee",
   "metadata": {},
   "source": [
    "#### Extraction des caractéristiques X de la variable cible Y "
   ]
  },
  {
   "cell_type": "code",
   "execution_count": 20,
   "id": "fe57c916-91af-4d9d-8bca-8b0911839205",
   "metadata": {},
   "outputs": [
    {
     "name": "stdout",
     "output_type": "stream",
     "text": [
      "les caractéristiques de (X):\n",
      "   AnneesExpérience\n",
      "0               1.1\n",
      "1               1.3\n",
      "2               1.5\n",
      "3               2.0\n",
      "4               2.2\n",
      "\n",
      "Variable cible (Y):\n",
      "0    39343.0\n",
      "1    46205.0\n",
      "2    37731.0\n",
      "3    43525.0\n",
      "4    39891.0\n",
      "Name: Salaire, dtype: float64\n"
     ]
    }
   ],
   "source": [
    "# Extraction des caractéristiques (X) et de la variable cible (Y)\n",
    "X = df[['AnneesExpérience']]\n",
    "Y = df['Salaire']\n",
    "\n",
    "# Affichage des premières lignes des caractéristiques (X) et de la variable cible (Y)\n",
    "print(\"les caractéristiques de (X):\")\n",
    "print(X.head())\n",
    "\n",
    "print(\"\\nVariable cible (Y):\")\n",
    "print(Y.head())"
   ]
  },
  {
   "cell_type": "markdown",
   "id": "ffa9e529-c396-4a69-8860-e993793dd91b",
   "metadata": {},
   "source": [
    "* les caractéristiques (features en anglais) se réfèrent aux variables indépendantes \n",
    "dans notre cas c'est X ( les années d'expérience) \n",
    "que en utilise pour prédire la variable dépendante (variable cible) dans notre cas c'est Y .\n",
    "* quand on crée une structure de données qui contient uniquement les années\n",
    "d'expérience. Ces années d'expérience sont ensuite utilisées comme entrée dans\n",
    "le modèle de régression linéaire pour prédire les salaires."
   ]
  },
  {
   "cell_type": "markdown",
   "id": "c9c5e08d-2db0-4228-9086-c7fb4a26725a",
   "metadata": {},
   "source": [
    "#### Normalisation des caractéristiques X en utilisant RobustScaler"
   ]
  },
  {
   "cell_type": "code",
   "execution_count": 21,
   "id": "62dd08d3-bb72-4689-9b7c-d5f1230a37ae",
   "metadata": {},
   "outputs": [],
   "source": [
    "scaler = RobustScaler()\n",
    "X_scaled = scaler.fit_transform(X)"
   ]
  },
  {
   "cell_type": "markdown",
   "id": "5ce09ff0-fd43-43f2-b4ec-a2126d2f3b75",
   "metadata": {},
   "source": [
    "#### Division des données en ensembles d'entrainement "
   ]
  },
  {
   "cell_type": "code",
   "execution_count": 22,
   "id": "291572ae-0b3d-4844-ab9d-7d27a21b0960",
   "metadata": {},
   "outputs": [],
   "source": [
    "X_train,X_test,Y_train,Y_test=train_test_split(X,Y,test_size=0.2,random_state=42)"
   ]
  },
  {
   "cell_type": "markdown",
   "id": "0c78e945-432b-4aee-85fe-b492762c2164",
   "metadata": {},
   "source": [
    "#### Affichage des dimensions des ensembles "
   ]
  },
  {
   "cell_type": "code",
   "execution_count": 23,
   "id": "c341f8e1-64e4-4e84-89ec-8f6752773dce",
   "metadata": {},
   "outputs": [
    {
     "name": "stdout",
     "output_type": "stream",
     "text": [
      "Dimensions de l'ensemble d'entraînement (X_train): (24, 1)\n",
      "Dimensions de l'ensemble de test (X_test): (6, 1)\n",
      "Dimensions de l'ensemble d'entraînement (Y_train):  (24,)\n",
      "Dimensions de l'ensemble de test (Y_test): (6,)\n"
     ]
    }
   ],
   "source": [
    "print(\"Dimensions de l'ensemble d'entraînement (X_train):\", X_train.shape)\n",
    "print (\"Dimensions de l'ensemble de test (X_test):\", X_test.shape)\n",
    "print (\"Dimensions de l'ensemble d'entraînement (Y_train): \", Y_train.shape)\n",
    "print (\"Dimensions de l'ensemble de test (Y_test):\", Y_test.shape)\n"
   ]
  },
  {
   "cell_type": "markdown",
   "id": "4cbb0d70-d83e-4c96-9c9a-396109b87500",
   "metadata": {},
   "source": [
    "#### Initialisation d'un modèle de régression linéaire "
   ]
  },
  {
   "cell_type": "code",
   "execution_count": 24,
   "id": "466b789b-43b1-45fb-8342-919efee18021",
   "metadata": {},
   "outputs": [],
   "source": [
    "model=linear_model.LinearRegression()"
   ]
  },
  {
   "cell_type": "markdown",
   "id": "00d95587-e8de-4c02-a129-2f0c6681badd",
   "metadata": {},
   "source": [
    "#### Entrainement du modèle de régression sur les données d'entrainement (X_train, Y_train) "
   ]
  },
  {
   "cell_type": "code",
   "execution_count": 25,
   "id": "0fe0a277-310a-433a-8b51-c8b200ad8c32",
   "metadata": {},
   "outputs": [
    {
     "data": {
      "text/html": [
       "<style>#sk-container-id-1 {color: black;}#sk-container-id-1 pre{padding: 0;}#sk-container-id-1 div.sk-toggleable {background-color: white;}#sk-container-id-1 label.sk-toggleable__label {cursor: pointer;display: block;width: 100%;margin-bottom: 0;padding: 0.3em;box-sizing: border-box;text-align: center;}#sk-container-id-1 label.sk-toggleable__label-arrow:before {content: \"▸\";float: left;margin-right: 0.25em;color: #696969;}#sk-container-id-1 label.sk-toggleable__label-arrow:hover:before {color: black;}#sk-container-id-1 div.sk-estimator:hover label.sk-toggleable__label-arrow:before {color: black;}#sk-container-id-1 div.sk-toggleable__content {max-height: 0;max-width: 0;overflow: hidden;text-align: left;background-color: #f0f8ff;}#sk-container-id-1 div.sk-toggleable__content pre {margin: 0.2em;color: black;border-radius: 0.25em;background-color: #f0f8ff;}#sk-container-id-1 input.sk-toggleable__control:checked~div.sk-toggleable__content {max-height: 200px;max-width: 100%;overflow: auto;}#sk-container-id-1 input.sk-toggleable__control:checked~label.sk-toggleable__label-arrow:before {content: \"▾\";}#sk-container-id-1 div.sk-estimator input.sk-toggleable__control:checked~label.sk-toggleable__label {background-color: #d4ebff;}#sk-container-id-1 div.sk-label input.sk-toggleable__control:checked~label.sk-toggleable__label {background-color: #d4ebff;}#sk-container-id-1 input.sk-hidden--visually {border: 0;clip: rect(1px 1px 1px 1px);clip: rect(1px, 1px, 1px, 1px);height: 1px;margin: -1px;overflow: hidden;padding: 0;position: absolute;width: 1px;}#sk-container-id-1 div.sk-estimator {font-family: monospace;background-color: #f0f8ff;border: 1px dotted black;border-radius: 0.25em;box-sizing: border-box;margin-bottom: 0.5em;}#sk-container-id-1 div.sk-estimator:hover {background-color: #d4ebff;}#sk-container-id-1 div.sk-parallel-item::after {content: \"\";width: 100%;border-bottom: 1px solid gray;flex-grow: 1;}#sk-container-id-1 div.sk-label:hover label.sk-toggleable__label {background-color: #d4ebff;}#sk-container-id-1 div.sk-serial::before {content: \"\";position: absolute;border-left: 1px solid gray;box-sizing: border-box;top: 0;bottom: 0;left: 50%;z-index: 0;}#sk-container-id-1 div.sk-serial {display: flex;flex-direction: column;align-items: center;background-color: white;padding-right: 0.2em;padding-left: 0.2em;position: relative;}#sk-container-id-1 div.sk-item {position: relative;z-index: 1;}#sk-container-id-1 div.sk-parallel {display: flex;align-items: stretch;justify-content: center;background-color: white;position: relative;}#sk-container-id-1 div.sk-item::before, #sk-container-id-1 div.sk-parallel-item::before {content: \"\";position: absolute;border-left: 1px solid gray;box-sizing: border-box;top: 0;bottom: 0;left: 50%;z-index: -1;}#sk-container-id-1 div.sk-parallel-item {display: flex;flex-direction: column;z-index: 1;position: relative;background-color: white;}#sk-container-id-1 div.sk-parallel-item:first-child::after {align-self: flex-end;width: 50%;}#sk-container-id-1 div.sk-parallel-item:last-child::after {align-self: flex-start;width: 50%;}#sk-container-id-1 div.sk-parallel-item:only-child::after {width: 0;}#sk-container-id-1 div.sk-dashed-wrapped {border: 1px dashed gray;margin: 0 0.4em 0.5em 0.4em;box-sizing: border-box;padding-bottom: 0.4em;background-color: white;}#sk-container-id-1 div.sk-label label {font-family: monospace;font-weight: bold;display: inline-block;line-height: 1.2em;}#sk-container-id-1 div.sk-label-container {text-align: center;}#sk-container-id-1 div.sk-container {/* jupyter's `normalize.less` sets `[hidden] { display: none; }` but bootstrap.min.css set `[hidden] { display: none !important; }` so we also need the `!important` here to be able to override the default hidden behavior on the sphinx rendered scikit-learn.org. See: https://github.com/scikit-learn/scikit-learn/issues/21755 */display: inline-block !important;position: relative;}#sk-container-id-1 div.sk-text-repr-fallback {display: none;}</style><div id=\"sk-container-id-1\" class=\"sk-top-container\"><div class=\"sk-text-repr-fallback\"><pre>LinearRegression()</pre><b>In a Jupyter environment, please rerun this cell to show the HTML representation or trust the notebook. <br />On GitHub, the HTML representation is unable to render, please try loading this page with nbviewer.org.</b></div><div class=\"sk-container\" hidden><div class=\"sk-item\"><div class=\"sk-estimator sk-toggleable\"><input class=\"sk-toggleable__control sk-hidden--visually\" id=\"sk-estimator-id-1\" type=\"checkbox\" checked><label for=\"sk-estimator-id-1\" class=\"sk-toggleable__label sk-toggleable__label-arrow\">LinearRegression</label><div class=\"sk-toggleable__content\"><pre>LinearRegression()</pre></div></div></div></div></div>"
      ],
      "text/plain": [
       "LinearRegression()"
      ]
     },
     "execution_count": 25,
     "metadata": {},
     "output_type": "execute_result"
    }
   ],
   "source": [
    "model.fit(X_train,Y_train)"
   ]
  },
  {
   "cell_type": "markdown",
   "id": "709cab8b-e156-4920-9eec-07765afc54ca",
   "metadata": {},
   "source": [
    "#### prédiction des valeurs cibles (Y_pred) à partir des données de test (X_test) "
   ]
  },
  {
   "cell_type": "code",
   "execution_count": 26,
   "id": "000dfe3e-af72-4207-b83f-20315b95be4c",
   "metadata": {},
   "outputs": [],
   "source": [
    "Y_pred=model.predict(X_test)"
   ]
  },
  {
   "cell_type": "markdown",
   "id": "d27ca50d-4aa1-4349-9c4d-cbfc984871c3",
   "metadata": {},
   "source": [
    "#### Calcul et affichage des différentes métriques d'évaluation du modèle (Erreurs)"
   ]
  },
  {
   "cell_type": "markdown",
   "id": "21b4f5af-f9b3-4136-a29a-2a2d89afbc91",
   "metadata": {},
   "source": [
    "* Erreur quadratique moyenne: "
   ]
  },
  {
   "cell_type": "code",
   "execution_count": 27,
   "id": "44ebace6-e403-4daa-bae7-728a40c4ed3a",
   "metadata": {},
   "outputs": [
    {
     "data": {
      "text/plain": [
       "49830096.85590839"
      ]
     },
     "execution_count": 27,
     "metadata": {},
     "output_type": "execute_result"
    }
   ],
   "source": [
    "EQM = mean_squared_error(Y_test, Y_pred)\n",
    "EQM"
   ]
  },
  {
   "cell_type": "markdown",
   "id": "8e1aad4f-5e50-4dc1-a2a4-d2c2cec033be",
   "metadata": {},
   "source": [
    "* Erreur absolu moyenne: "
   ]
  },
  {
   "cell_type": "code",
   "execution_count": 28,
   "id": "45ea260b-4b0c-4640-a01c-7f1a8c1f819e",
   "metadata": {},
   "outputs": [
    {
     "data": {
      "text/plain": [
       "6286.453830757749"
      ]
     },
     "execution_count": 28,
     "metadata": {},
     "output_type": "execute_result"
    }
   ],
   "source": [
    "EAM = mean_absolute_error(Y_test, Y_pred)\n",
    "EAM"
   ]
  },
  {
   "cell_type": "markdown",
   "id": "642d55d3-bd53-49dc-bf8d-8b27566651ff",
   "metadata": {},
   "source": [
    "* R-squared "
   ]
  },
  {
   "cell_type": "code",
   "execution_count": 29,
   "id": "dbe2b6e7-849d-450e-b293-961af745e4cb",
   "metadata": {},
   "outputs": [
    {
     "data": {
      "text/plain": [
       "0.9024461774180497"
      ]
     },
     "execution_count": 29,
     "metadata": {},
     "output_type": "execute_result"
    }
   ],
   "source": [
    "RS = r2_score(Y_test, Y_pred)\n",
    "RS"
   ]
  },
  {
   "cell_type": "markdown",
   "id": "07fe8209-001f-4712-b9af-0e768c5de1a8",
   "metadata": {},
   "source": [
    "#### Visualisation des données réelles (X,Y) et des prédictions ( Y_pred2 )"
   ]
  },
  {
   "cell_type": "code",
   "execution_count": null,
   "id": "fa110b01-a6f0-4c5e-b0b6-2460f52622d3",
   "metadata": {},
   "outputs": [],
   "source": [
    "Y_pred2 = model.predict(X_scaled)"
   ]
  },
  {
   "cell_type": "code",
   "execution_count": 36,
   "id": "1214e03c-a6c2-4e0c-9417-36092a52b55b",
   "metadata": {},
   "outputs": [
    {
     "name": "stderr",
     "output_type": "stream",
     "text": [
      "C:\\Users\\Hp\\AppData\\Local\\Programs\\Python\\Python311\\Lib\\site-packages\\sklearn\\base.py:465: UserWarning: X does not have valid feature names, but LinearRegression was fitted with feature names\n",
      "  warnings.warn(\n"
     ]
    },
    {
     "data": {
      "image/png": "[encoded data removed]",
      "text/plain": [
       "<Figure size 640x480 with 1 Axes>"
      ]
     },
     "metadata": {},
     "output_type": "display_data"
    }
   ],
   "source": [
    "plt.scatter(X_scaled, df['Salaire'], label='Real Data', color='blue', marker='o')\n",
    "plt.plot(X_scaled, model.predict(X_scaled), color='red', label='Predictions', linewidth=2)\n",
    "plt.title('Real Data vs Predictions')\n",
    "plt.xlabel('Normalized Years of Experience')\n",
    "plt.ylabel('Salary')\n",
    "plt.legend()\n",
    "plt.show()"
   ]
  }
 ],
 "metadata": {
  "kernelspec": {
   "display_name": "Python 3 (ipykernel)",
   "language": "python",
   "name": "python3"
  },
  "language_info": {
   "codemirror_mode": {
    "name": "ipython",
    "version": 3
   },
   "file_extension": ".py",
   "mimetype": "text/x-python",
   "name": "python",
   "nbconvert_exporter": "python",
   "pygments_lexer": "ipython3",
   "version": "3.11.5"
  }
 },
 "nbformat": 4,
 "nbformat_minor": 5
}
