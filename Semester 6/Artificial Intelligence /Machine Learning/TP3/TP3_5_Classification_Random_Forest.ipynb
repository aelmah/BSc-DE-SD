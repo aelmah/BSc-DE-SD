{
 "cells": [
  {
   "cell_type": "markdown",
   "id": "343072af-2665-42a5-bc28-76a484689861",
   "metadata": {},
   "source": [
    "#### TP3 : Classification logistique avec Random Forest"
   ]
  },
  {
   "cell_type": "markdown",
   "id": "fb0f842d-bae6-4451-a8cd-434081ef96e0",
   "metadata": {},
   "source": [
    "* Dataset : Iris "
   ]
  },
  {
   "cell_type": "markdown",
   "id": "3c3f76e8-b5ce-4df8-a9a9-de05b0b39162",
   "metadata": {},
   "source": [
    "#### Bibliothèques"
   ]
  },
  {
   "cell_type": "code",
   "execution_count": 1,
   "id": "266e6f63-10a1-4bd4-8d76-74db68f16fb9",
   "metadata": {},
   "outputs": [],
   "source": [
    "from sklearn.datasets import load_iris\n",
    "from sklearn.preprocessing import RobustScaler\n",
    "from sklearn.decomposition import PCA\n",
    "from sklearn.model_selection import train_test_split\n",
    "from sklearn.ensemble import RandomForestClassifier\n",
    "from sklearn.metrics import confusion_matrix, accuracy_score, precision_score, recall_score, f1_score"
   ]
  },
  {
   "cell_type": "markdown",
   "id": "6450cf32-db43-4aaa-937b-5a68c8d16cb1",
   "metadata": {},
   "source": [
    "1- Chargement de jeu de données"
   ]
  },
  {
   "cell_type": "code",
   "execution_count": 2,
   "id": "7902f787-7f57-430d-9d41-4d8ae3e5d249",
   "metadata": {},
   "outputs": [],
   "source": [
    "iris = load_iris()\n",
    "X = iris.data\n",
    "y = iris.target"
   ]
  },
  {
   "cell_type": "markdown",
   "id": "a0205128-aaf5-43d0-a021-12fcda19daea",
   "metadata": {},
   "source": [
    "2- Normalisation des données avec RobustScaler"
   ]
  },
  {
   "cell_type": "code",
   "execution_count": 3,
   "id": "11675d0d-dafe-40b5-b896-2e4936bf761e",
   "metadata": {},
   "outputs": [],
   "source": [
    "scaler = RobustScaler()\n",
    "X_scaled = scaler.fit_transform(X)"
   ]
  },
  {
   "cell_type": "markdown",
   "id": "b15407bc-9308-46c5-ae63-82ba203825a8",
   "metadata": {},
   "source": [
    "3- Réduction des variables indépendantes en 3 composantes en utilisant PCA"
   ]
  },
  {
   "cell_type": "code",
   "execution_count": 4,
   "id": "e0cdb29a-d024-4337-bf66-c92f91f536cf",
   "metadata": {},
   "outputs": [],
   "source": [
    "pca = PCA(n_components=3)\n",
    "X_pca = pca.fit_transform(X_scaled)\n"
   ]
  },
  {
   "cell_type": "markdown",
   "id": "9d2be368-b7b2-4c58-b2eb-00c91added73",
   "metadata": {},
   "source": [
    "4- Division des données en ensembles d'entraînement et de test"
   ]
  },
  {
   "cell_type": "code",
   "execution_count": 5,
   "id": "18e1c956-6018-4a7e-a97d-86c4d2d49e4d",
   "metadata": {},
   "outputs": [],
   "source": [
    "X_train, X_test, y_train, y_test = train_test_split(X_pca, y, test_size=0.2, random_state=42)"
   ]
  },
  {
   "cell_type": "markdown",
   "id": "9aab8f4d-5126-4fb4-986e-6e209df4b817",
   "metadata": {},
   "source": [
    "5- Création du modèle Random Forest"
   ]
  },
  {
   "cell_type": "code",
   "execution_count": 6,
   "id": "ebd615ae-1b47-4a7a-849d-a34a3ed0cb63",
   "metadata": {},
   "outputs": [
    {
     "data": {
      "text/html": [
       "<style>#sk-container-id-1 {color: black;}#sk-container-id-1 pre{padding: 0;}#sk-container-id-1 div.sk-toggleable {background-color: white;}#sk-container-id-1 label.sk-toggleable__label {cursor: pointer;display: block;width: 100%;margin-bottom: 0;padding: 0.3em;box-sizing: border-box;text-align: center;}#sk-container-id-1 label.sk-toggleable__label-arrow:before {content: \"▸\";float: left;margin-right: 0.25em;color: #696969;}#sk-container-id-1 label.sk-toggleable__label-arrow:hover:before {color: black;}#sk-container-id-1 div.sk-estimator:hover label.sk-toggleable__label-arrow:before {color: black;}#sk-container-id-1 div.sk-toggleable__content {max-height: 0;max-width: 0;overflow: hidden;text-align: left;background-color: #f0f8ff;}#sk-container-id-1 div.sk-toggleable__content pre {margin: 0.2em;color: black;border-radius: 0.25em;background-color: #f0f8ff;}#sk-container-id-1 input.sk-toggleable__control:checked~div.sk-toggleable__content {max-height: 200px;max-width: 100%;overflow: auto;}#sk-container-id-1 input.sk-toggleable__control:checked~label.sk-toggleable__label-arrow:before {content: \"▾\";}#sk-container-id-1 div.sk-estimator input.sk-toggleable__control:checked~label.sk-toggleable__label {background-color: #d4ebff;}#sk-container-id-1 div.sk-label input.sk-toggleable__control:checked~label.sk-toggleable__label {background-color: #d4ebff;}#sk-container-id-1 input.sk-hidden--visually {border: 0;clip: rect(1px 1px 1px 1px);clip: rect(1px, 1px, 1px, 1px);height: 1px;margin: -1px;overflow: hidden;padding: 0;position: absolute;width: 1px;}#sk-container-id-1 div.sk-estimator {font-family: monospace;background-color: #f0f8ff;border: 1px dotted black;border-radius: 0.25em;box-sizing: border-box;margin-bottom: 0.5em;}#sk-container-id-1 div.sk-estimator:hover {background-color: #d4ebff;}#sk-container-id-1 div.sk-parallel-item::after {content: \"\";width: 100%;border-bottom: 1px solid gray;flex-grow: 1;}#sk-container-id-1 div.sk-label:hover label.sk-toggleable__label {background-color: #d4ebff;}#sk-container-id-1 div.sk-serial::before {content: \"\";position: absolute;border-left: 1px solid gray;box-sizing: border-box;top: 0;bottom: 0;left: 50%;z-index: 0;}#sk-container-id-1 div.sk-serial {display: flex;flex-direction: column;align-items: center;background-color: white;padding-right: 0.2em;padding-left: 0.2em;position: relative;}#sk-container-id-1 div.sk-item {position: relative;z-index: 1;}#sk-container-id-1 div.sk-parallel {display: flex;align-items: stretch;justify-content: center;background-color: white;position: relative;}#sk-container-id-1 div.sk-item::before, #sk-container-id-1 div.sk-parallel-item::before {content: \"\";position: absolute;border-left: 1px solid gray;box-sizing: border-box;top: 0;bottom: 0;left: 50%;z-index: -1;}#sk-container-id-1 div.sk-parallel-item {display: flex;flex-direction: column;z-index: 1;position: relative;background-color: white;}#sk-container-id-1 div.sk-parallel-item:first-child::after {align-self: flex-end;width: 50%;}#sk-container-id-1 div.sk-parallel-item:last-child::after {align-self: flex-start;width: 50%;}#sk-container-id-1 div.sk-parallel-item:only-child::after {width: 0;}#sk-container-id-1 div.sk-dashed-wrapped {border: 1px dashed gray;margin: 0 0.4em 0.5em 0.4em;box-sizing: border-box;padding-bottom: 0.4em;background-color: white;}#sk-container-id-1 div.sk-label label {font-family: monospace;font-weight: bold;display: inline-block;line-height: 1.2em;}#sk-container-id-1 div.sk-label-container {text-align: center;}#sk-container-id-1 div.sk-container {/* jupyter's `normalize.less` sets `[hidden] { display: none; }` but bootstrap.min.css set `[hidden] { display: none !important; }` so we also need the `!important` here to be able to override the default hidden behavior on the sphinx rendered scikit-learn.org. See: https://github.com/scikit-learn/scikit-learn/issues/21755 */display: inline-block !important;position: relative;}#sk-container-id-1 div.sk-text-repr-fallback {display: none;}</style><div id=\"sk-container-id-1\" class=\"sk-top-container\"><div class=\"sk-text-repr-fallback\"><pre>RandomForestClassifier()</pre><b>In a Jupyter environment, please rerun this cell to show the HTML representation or trust the notebook. <br />On GitHub, the HTML representation is unable to render, please try loading this page with nbviewer.org.</b></div><div class=\"sk-container\" hidden><div class=\"sk-item\"><div class=\"sk-estimator sk-toggleable\"><input class=\"sk-toggleable__control sk-hidden--visually\" id=\"sk-estimator-id-1\" type=\"checkbox\" checked><label for=\"sk-estimator-id-1\" class=\"sk-toggleable__label sk-toggleable__label-arrow\">RandomForestClassifier</label><div class=\"sk-toggleable__content\"><pre>RandomForestClassifier()</pre></div></div></div></div></div>"
      ],
      "text/plain": [
       "RandomForestClassifier()"
      ]
     },
     "execution_count": 6,
     "metadata": {},
     "output_type": "execute_result"
    }
   ],
   "source": [
    "forest_model = RandomForestClassifier()\n",
    "forest_model.fit(X_train, y_train)"
   ]
  },
  {
   "cell_type": "markdown",
   "id": "0af7400d-dc25-4e03-9e23-043ff8bc4735",
   "metadata": {},
   "source": [
    "6- les prédictions"
   ]
  },
  {
   "cell_type": "code",
   "execution_count": 7,
   "id": "6f498bea-7d79-4bdd-b217-3ab6ab4cd8b1",
   "metadata": {},
   "outputs": [],
   "source": [
    "y_pred_forest = forest_model.predict(X_test)"
   ]
  },
  {
   "cell_type": "markdown",
   "id": "1d1ddb3a-81b8-4c48-bb95-20c85605806e",
   "metadata": {},
   "source": [
    "7- Calcule de la matrice de confusion"
   ]
  },
  {
   "cell_type": "code",
   "execution_count": 8,
   "id": "2f7426bd-a336-45c8-96c8-5f21a25b1742",
   "metadata": {},
   "outputs": [],
   "source": [
    "confusion_matrix_forest = confusion_matrix(y_test, y_pred_forest)"
   ]
  },
  {
   "cell_type": "markdown",
   "id": "c043c30b-17d2-4340-9f5a-380647335b04",
   "metadata": {},
   "source": [
    "8- Calcule des quatre métriques d'évaluation"
   ]
  },
  {
   "cell_type": "code",
   "execution_count": 9,
   "id": "3d3fb9a2-2c03-4fcd-bcfb-25e175707a13",
   "metadata": {},
   "outputs": [],
   "source": [
    "accuracy_forest = accuracy_score(y_test, y_pred_forest)\n",
    "precision_forest = precision_score(y_test, y_pred_forest, average='weighted')\n",
    "recall_forest = recall_score(y_test, y_pred_forest, average='weighted')\n",
    "f1_forest = f1_score(y_test, y_pred_forest, average='weighted')"
   ]
  },
  {
   "cell_type": "markdown",
   "id": "ef4c26c1-38b1-4852-b361-6c486fc08e6e",
   "metadata": {},
   "source": [
    "9- Affichage des résultats"
   ]
  },
  {
   "cell_type": "code",
   "execution_count": 10,
   "id": "8b5eb42b-394d-43e3-be04-729b722102cc",
   "metadata": {},
   "outputs": [
    {
     "name": "stdout",
     "output_type": "stream",
     "text": [
      "Matrice de confusion pour la forêt aléatoire :\n",
      " [[10  0  0]\n",
      " [ 0  9  0]\n",
      " [ 0  1 10]]\n",
      "Accuracy :  0.9666666666666667\n",
      "Precision :  0.9700000000000001\n",
      "Recall :  0.9666666666666667\n",
      "F1 Score :  0.966750208855472\n"
     ]
    }
   ],
   "source": [
    "print(\"Matrice de confusion pour la forêt aléatoire :\\n\", confusion_matrix_forest)\n",
    "print(\"Accuracy : \", accuracy_forest)\n",
    "print(\"Precision : \", precision_forest)\n",
    "print(\"Recall : \", recall_forest)\n",
    "print(\"F1 Score : \", f1_forest)"
   ]
  }
 ],
 "metadata": {
  "kernelspec": {
   "display_name": "Python 3 (ipykernel)",
   "language": "python",
   "name": "python3"
  },
  "language_info": {
   "codemirror_mode": {
    "name": "ipython",
    "version": 3
   },
   "file_extension": ".py",
   "mimetype": "text/x-python",
   "name": "python",
   "nbconvert_exporter": "python",
   "pygments_lexer": "ipython3",
   "version": "3.11.5"
  }
 },
 "nbformat": 4,
 "nbformat_minor": 5
}
