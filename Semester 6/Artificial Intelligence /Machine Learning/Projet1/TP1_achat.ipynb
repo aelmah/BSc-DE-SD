{
 "cells": [
  {
   "cell_type": "markdown",
   "id": "8154baab-1cfc-4df7-9798-ae36d4d28e2c",
   "metadata": {},
   "source": [
    "#### TP1: "
   ]
  },
  {
   "cell_type": "markdown",
   "id": "dc6de32f-5bff-48f4-8e37-466c1362023b",
   "metadata": {},
   "source": [
    "        * Dataset: Achat"
   ]
  },
  {
   "cell_type": "markdown",
   "id": "809adfba-67bb-4096-8a55-f50e730e3391",
   "metadata": {},
   "source": [
    "* Nettoyage de données\r",
    "*  Normalisations des données en utilisant différentes méthode\n",
    "* Encodage de données\n",
    "* La réduction des données en utilisant le thechnique PCA"
   ]
  },
  {
   "cell_type": "markdown",
   "id": "ffd72678-2172-4041-97c3-71cf5873e242",
   "metadata": {},
   "source": [
    "##### Import des bibliothèques"
   ]
  },
  {
   "cell_type": "code",
   "execution_count": 3,
   "id": "bf41a25d-8342-475a-abcf-0735983e3a9f",
   "metadata": {},
   "outputs": [],
   "source": [
    "import numpy as np\n",
    "import pandas as pd \n",
    "import matplotlib.pyplot as plt \n",
    "from sklearn import impute\n",
    "from sklearn.impute import SimpleImputer\n",
    "from sklearn.preprocessing import StandardScaler\n",
    "from sklearn import preprocessing\n",
    "from sklearn import compose \n",
    "from sklearn.decomposition import PCA "
   ]
  },
  {
   "cell_type": "markdown",
   "id": "0ff35553-f78c-4b2b-97e8-37d5b1941bfd",
   "metadata": {},
   "source": [
    "#####  1- lécture et affichage des données"
   ]
  },
  {
   "cell_type": "code",
   "execution_count": 4,
   "id": "861999c7-25ca-489b-86c9-4e139d7882bf",
   "metadata": {},
   "outputs": [
    {
     "data": {
      "text/html": [
       "<div>\n",
       "<style scoped>\n",
       "    .dataframe tbody tr th:only-of-type {\n",
       "        vertical-align: middle;\n",
       "    }\n",
       "\n",
       "    .dataframe tbody tr th {\n",
       "        vertical-align: top;\n",
       "    }\n",
       "\n",
       "    .dataframe thead th {\n",
       "        text-align: right;\n",
       "    }\n",
       "</style>\n",
       "<table border=\"1\" class=\"dataframe\">\n",
       "  <thead>\n",
       "    <tr style=\"text-align: right;\">\n",
       "      <th></th>\n",
       "      <th>Country</th>\n",
       "      <th>Age</th>\n",
       "      <th>Salary</th>\n",
       "      <th>Purchased</th>\n",
       "    </tr>\n",
       "  </thead>\n",
       "  <tbody>\n",
       "    <tr>\n",
       "      <th>0</th>\n",
       "      <td>France</td>\n",
       "      <td>44.0</td>\n",
       "      <td>72000.0</td>\n",
       "      <td>No</td>\n",
       "    </tr>\n",
       "    <tr>\n",
       "      <th>1</th>\n",
       "      <td>Spain</td>\n",
       "      <td>27.0</td>\n",
       "      <td>48000.0</td>\n",
       "      <td>Yes</td>\n",
       "    </tr>\n",
       "    <tr>\n",
       "      <th>2</th>\n",
       "      <td>Germany</td>\n",
       "      <td>30.0</td>\n",
       "      <td>54000.0</td>\n",
       "      <td>No</td>\n",
       "    </tr>\n",
       "    <tr>\n",
       "      <th>3</th>\n",
       "      <td>Spain</td>\n",
       "      <td>38.0</td>\n",
       "      <td>61000.0</td>\n",
       "      <td>No</td>\n",
       "    </tr>\n",
       "    <tr>\n",
       "      <th>4</th>\n",
       "      <td>Germany</td>\n",
       "      <td>40.0</td>\n",
       "      <td>NaN</td>\n",
       "      <td>Yes</td>\n",
       "    </tr>\n",
       "    <tr>\n",
       "      <th>5</th>\n",
       "      <td>France</td>\n",
       "      <td>35.0</td>\n",
       "      <td>58000.0</td>\n",
       "      <td>Yes</td>\n",
       "    </tr>\n",
       "    <tr>\n",
       "      <th>6</th>\n",
       "      <td>Spain</td>\n",
       "      <td>NaN</td>\n",
       "      <td>52000.0</td>\n",
       "      <td>No</td>\n",
       "    </tr>\n",
       "    <tr>\n",
       "      <th>7</th>\n",
       "      <td>France</td>\n",
       "      <td>48.0</td>\n",
       "      <td>79000.0</td>\n",
       "      <td>Yes</td>\n",
       "    </tr>\n",
       "    <tr>\n",
       "      <th>8</th>\n",
       "      <td>Germany</td>\n",
       "      <td>50.0</td>\n",
       "      <td>83000.0</td>\n",
       "      <td>No</td>\n",
       "    </tr>\n",
       "    <tr>\n",
       "      <th>9</th>\n",
       "      <td>France</td>\n",
       "      <td>37.0</td>\n",
       "      <td>67000.0</td>\n",
       "      <td>Yes</td>\n",
       "    </tr>\n",
       "  </tbody>\n",
       "</table>\n",
       "</div>"
      ],
      "text/plain": [
       "   Country   Age   Salary Purchased\n",
       "0   France  44.0  72000.0        No\n",
       "1    Spain  27.0  48000.0       Yes\n",
       "2  Germany  30.0  54000.0        No\n",
       "3    Spain  38.0  61000.0        No\n",
       "4  Germany  40.0      NaN       Yes\n",
       "5   France  35.0  58000.0       Yes\n",
       "6    Spain   NaN  52000.0        No\n",
       "7   France  48.0  79000.0       Yes\n",
       "8  Germany  50.0  83000.0        No\n",
       "9   France  37.0  67000.0       Yes"
      ]
     },
     "execution_count": 4,
     "metadata": {},
     "output_type": "execute_result"
    }
   ],
   "source": [
    "df = pd.read_csv('datasets/achat.csv')\n",
    "df"
   ]
  },
  {
   "cell_type": "markdown",
   "id": "109219a7-77a7-4510-a105-28b73288ee9c",
   "metadata": {},
   "source": [
    "##### 2- Affichage de nombre des instances de la base de données "
   ]
  },
  {
   "cell_type": "code",
   "execution_count": 5,
   "id": "7da96ced-0a81-40b4-be5f-a09ff0e9e3ab",
   "metadata": {},
   "outputs": [
    {
     "data": {
      "text/plain": [
       "(10, 4)"
      ]
     },
     "execution_count": 5,
     "metadata": {},
     "output_type": "execute_result"
    }
   ],
   "source": [
    "df.shape"
   ]
  },
  {
   "cell_type": "markdown",
   "id": "8cab07fd-0338-422c-ba60-070dd2f96523",
   "metadata": {},
   "source": [
    "##### 3- Affichage des premières lignes de la base de données"
   ]
  },
  {
   "cell_type": "code",
   "execution_count": 6,
   "id": "1187f2fc-2baf-45f3-a421-eb2ecb2b1161",
   "metadata": {},
   "outputs": [
    {
     "data": {
      "text/html": [
       "<div>\n",
       "<style scoped>\n",
       "    .dataframe tbody tr th:only-of-type {\n",
       "        vertical-align: middle;\n",
       "    }\n",
       "\n",
       "    .dataframe tbody tr th {\n",
       "        vertical-align: top;\n",
       "    }\n",
       "\n",
       "    .dataframe thead th {\n",
       "        text-align: right;\n",
       "    }\n",
       "</style>\n",
       "<table border=\"1\" class=\"dataframe\">\n",
       "  <thead>\n",
       "    <tr style=\"text-align: right;\">\n",
       "      <th></th>\n",
       "      <th>Country</th>\n",
       "      <th>Age</th>\n",
       "      <th>Salary</th>\n",
       "      <th>Purchased</th>\n",
       "    </tr>\n",
       "  </thead>\n",
       "  <tbody>\n",
       "    <tr>\n",
       "      <th>0</th>\n",
       "      <td>France</td>\n",
       "      <td>44.0</td>\n",
       "      <td>72000.0</td>\n",
       "      <td>No</td>\n",
       "    </tr>\n",
       "    <tr>\n",
       "      <th>1</th>\n",
       "      <td>Spain</td>\n",
       "      <td>27.0</td>\n",
       "      <td>48000.0</td>\n",
       "      <td>Yes</td>\n",
       "    </tr>\n",
       "    <tr>\n",
       "      <th>2</th>\n",
       "      <td>Germany</td>\n",
       "      <td>30.0</td>\n",
       "      <td>54000.0</td>\n",
       "      <td>No</td>\n",
       "    </tr>\n",
       "    <tr>\n",
       "      <th>3</th>\n",
       "      <td>Spain</td>\n",
       "      <td>38.0</td>\n",
       "      <td>61000.0</td>\n",
       "      <td>No</td>\n",
       "    </tr>\n",
       "    <tr>\n",
       "      <th>4</th>\n",
       "      <td>Germany</td>\n",
       "      <td>40.0</td>\n",
       "      <td>NaN</td>\n",
       "      <td>Yes</td>\n",
       "    </tr>\n",
       "  </tbody>\n",
       "</table>\n",
       "</div>"
      ],
      "text/plain": [
       "   Country   Age   Salary Purchased\n",
       "0   France  44.0  72000.0        No\n",
       "1    Spain  27.0  48000.0       Yes\n",
       "2  Germany  30.0  54000.0        No\n",
       "3    Spain  38.0  61000.0        No\n",
       "4  Germany  40.0      NaN       Yes"
      ]
     },
     "execution_count": 6,
     "metadata": {},
     "output_type": "execute_result"
    }
   ],
   "source": [
    "df.head()"
   ]
  },
  {
   "cell_type": "markdown",
   "id": "d7ae17be-a1f9-4e62-87a4-d38ccc7a8968",
   "metadata": {},
   "source": [
    "##### 4- Séparation des variables indépendantes (X) et dépendante (Y)"
   ]
  },
  {
   "cell_type": "code",
   "execution_count": 7,
   "id": "d23ac5c2-af89-47c6-a84e-1886a6ffaa45",
   "metadata": {},
   "outputs": [],
   "source": [
    "X = df.iloc[:, :-1].values"
   ]
  },
  {
   "cell_type": "code",
   "execution_count": 8,
   "id": "6184edfc-091b-45b2-a23a-d125667659bf",
   "metadata": {},
   "outputs": [],
   "source": [
    "Y = df.iloc[:, -1].values"
   ]
  },
  {
   "cell_type": "markdown",
   "id": "d77c07bd-7036-41de-9a9d-3382af9fa370",
   "metadata": {},
   "source": [
    "##### 5- Nettoyage des données"
   ]
  },
  {
   "cell_type": "code",
   "execution_count": 9,
   "id": "56eeef72-c1e1-4d59-bf7f-d395758e2ecd",
   "metadata": {},
   "outputs": [],
   "source": [
    "# création d'une instance de SimpleImputer\n",
    "imputer = impute.SimpleImputer(missing_values = np.nan, strategy ='mean') "
   ]
  },
  {
   "cell_type": "code",
   "execution_count": 10,
   "id": "b30f5119-0d6d-4372-ada7-6c48d25d9c7c",
   "metadata": {},
   "outputs": [],
   "source": [
    "# Ajustement du SimpleImputer aux données X[:, 1:3] avec fit transform\n",
    "X[:, 1:3] = imputer.fit_transform(X[:, 1:3]) "
   ]
  },
  {
   "cell_type": "markdown",
   "id": "a094d892-026d-4ba9-bddd-ba5dfc6eddec",
   "metadata": {},
   "source": [
    "##### 6- Affichage des premiers lignes de X après la phase de nettoyage"
   ]
  },
  {
   "cell_type": "code",
   "execution_count": 11,
   "id": "ad039d73-1584-4645-bca5-c93f7259d55e",
   "metadata": {},
   "outputs": [
    {
     "name": "stdout",
     "output_type": "stream",
     "text": [
      "[['France' 44.0 72000.0]\n",
      " ['Spain' 27.0 48000.0]\n",
      " ['Germany' 30.0 54000.0]\n",
      " ['Spain' 38.0 61000.0]\n",
      " ['Germany' 40.0 63777.77777777778]]\n"
     ]
    }
   ],
   "source": [
    "print (X[:5]) "
   ]
  },
  {
   "cell_type": "markdown",
   "id": "69c8c1e2-dcf7-48ab-8269-72c006b3c612",
   "metadata": {},
   "source": [
    "##### 7- Normalisation des données"
   ]
  },
  {
   "cell_type": "code",
   "execution_count": 30,
   "id": "d6d61817-526b-4585-9087-f0f603d3a861",
   "metadata": {},
   "outputs": [],
   "source": [
    "# Création d'une instance de transformateur de normalisation\n",
    "scaler = preprocessing.StandardScaler()"
   ]
  },
  {
   "cell_type": "code",
   "execution_count": null,
   "id": "6d02bc34-3b10-4aa0-90a6-3088568d203b",
   "metadata": {},
   "outputs": [],
   "source": [
    "# Normalisation des données\n",
    "X[:, 1:3] = scaler.fit_transform(X) "
   ]
  },
  {
   "cell_type": "markdown",
   "id": "2973d284-205e-435c-902d-80c28b02a309",
   "metadata": {},
   "source": [
    "##### 8- Affichage des premières lignes après la normalisation"
   ]
  },
  {
   "cell_type": "code",
   "execution_count": 22,
   "id": "94f1ec3b-8234-42eb-a2f4-1c1b7e6c0d5d",
   "metadata": {},
   "outputs": [
    {
     "name": "stdout",
     "output_type": "stream",
     "text": [
      "[['France' 0.758874361590019 0.7494732544921677]\n",
      " ['Spain' -1.7115038793306814 -1.4381784072687531]\n",
      " ['Germany' -1.2755547779917342 -0.8912654918285229]\n",
      " ['Spain' -0.1130238410878753 -0.253200423814921]\n",
      " ['Germany' 0.17760889313808945 6.632191985654332e-16]]\n"
     ]
    }
   ],
   "source": [
    "print (X[:5]) "
   ]
  },
  {
   "cell_type": "markdown",
   "id": "c58df34d-9c52-411b-a5ef-298a785ee6d6",
   "metadata": {},
   "source": [
    "##### 9- Encodage de la colonne catégorielle 'country'"
   ]
  },
  {
   "cell_type": "code",
   "execution_count": 15,
   "id": "be59913f-67cf-4d8d-928c-fed5ab4ab69f",
   "metadata": {},
   "outputs": [],
   "source": [
    "# Encodage des variables indépendantes \n",
    "ct = compose.ColumnTransformer(transformers = [('encoder', preprocessing.OneHotEncoder(), [0])], remainder = 'passthrough')\n",
    "X_encoder= np.array(ct.fit_transform(X)) \n"
   ]
  },
  {
   "cell_type": "markdown",
   "id": "f5e26971-deef-47f7-a0ab-422aa4184dd0",
   "metadata": {},
   "source": [
    "##### 10- Affichage des premières lignes après l'Encodage"
   ]
  },
  {
   "cell_type": "code",
   "execution_count": 16,
   "id": "94298eb9-1222-459f-8da2-9bce651255c7",
   "metadata": {},
   "outputs": [
    {
     "name": "stdout",
     "output_type": "stream",
     "text": [
      "[[1.0 0.0 0.0 0.758874361590019 0.7494732544921677]\n",
      " [0.0 0.0 1.0 -1.7115038793306814 -1.4381784072687531]\n",
      " [0.0 1.0 0.0 -1.2755547779917342 -0.8912654918285229]\n",
      " [0.0 0.0 1.0 -0.1130238410878753 -0.253200423814921]\n",
      " [0.0 1.0 0.0 0.17760889313808945 6.632191985654332e-16]]\n"
     ]
    }
   ],
   "source": [
    "print (X_encoder[:5])"
   ]
  },
  {
   "cell_type": "markdown",
   "id": "b4cc2585-1ef2-4146-a15a-97dc67b6bc11",
   "metadata": {},
   "source": [
    "##### 11- Réduction des attributs Age et Salary en seul attribut"
   ]
  },
  {
   "cell_type": "code",
   "execution_count": 45,
   "id": "0cc7c616-87d6-4108-a074-16030e4640c6",
   "metadata": {},
   "outputs": [],
   "source": [
    "# Création du modèle \n",
    "model = PCA (n_components = 1) \n",
    "X_pca = model.fit_transform(X[:, 1:3]) "
   ]
  },
  {
   "cell_type": "code",
   "execution_count": 46,
   "id": "f4558c86-e6ff-434e-9dfa-d963c070960f",
   "metadata": {},
   "outputs": [
    {
     "name": "stdout",
     "output_type": "stream",
     "text": [
      "(10, 1) (10, 3)\n"
     ]
    }
   ],
   "source": [
    "# Exécution du modèle PCA \n",
    "print (X_pca.shape, X.shape) "
   ]
  },
  {
   "cell_type": "markdown",
   "id": "8a46f28d-a5b3-4325-9b87-99726b4a2281",
   "metadata": {},
   "source": [
    "##### 12- Affichage des premières lignes après la réduction"
   ]
  },
  {
   "cell_type": "code",
   "execution_count": 50,
   "id": "02c40b66-638b-4282-b1ce-537904bef9f8",
   "metadata": {},
   "outputs": [
    {
     "name": "stdout",
     "output_type": "stream",
     "text": [
      "[[ 1.06656283]\n",
      " [-2.2271617 ]\n",
      " [-1.53217331]\n",
      " [-0.25895966]\n",
      " [ 0.12558845]]\n"
     ]
    }
   ],
   "source": [
    "print (X_pca[:5]) "
   ]
  }
 ],
 "metadata": {
  "kernelspec": {
   "display_name": "Python 3 (ipykernel)",
   "language": "python",
   "name": "python3"
  },
  "language_info": {
   "codemirror_mode": {
    "name": "ipython",
    "version": 3
   },
   "file_extension": ".py",
   "mimetype": "text/x-python",
   "name": "python",
   "nbconvert_exporter": "python",
   "pygments_lexer": "ipython3",
   "version": "3.11.5"
  }
 },
 "nbformat": 4,
 "nbformat_minor": 5
}
