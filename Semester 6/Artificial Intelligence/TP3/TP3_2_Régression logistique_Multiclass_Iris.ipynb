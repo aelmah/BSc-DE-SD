{
 "cells": [
  {
   "cell_type": "markdown",
   "id": "3146cde2-c4ff-48f5-aed9-7dd84a64d3df",
   "metadata": {},
   "source": [
    "#### TP3 : Régression logistique Multiclass "
   ]
  },
  {
   "cell_type": "markdown",
   "id": "b4f2d836-c896-4870-a161-1cfac0093885",
   "metadata": {},
   "source": [
    "* Dataset : Iris "
   ]
  },
  {
   "cell_type": "markdown",
   "id": "c26e4454-d225-40af-a020-be1f8380255b",
   "metadata": {},
   "source": [
    "##### Bibliothèques "
   ]
  },
  {
   "cell_type": "code",
   "execution_count": 3,
   "id": "b47409ba-4983-4731-9c08-02495a915dd7",
   "metadata": {},
   "outputs": [],
   "source": [
    "import pandas as pd \n",
    "from sklearn.datasets import load_iris\n",
    "from sklearn.preprocessing import RobustScaler\n",
    "from sklearn.decomposition import PCA\n",
    "from sklearn.model_selection import train_test_split\n",
    "from sklearn.linear_model import LogisticRegression\n",
    "from sklearn.metrics import confusion_matrix, accuracy_score, precision_score, recall_score, f1_score"
   ]
  },
  {
   "cell_type": "markdown",
   "id": "c19c1d8e-2b11-4270-a031-22f7206a2d6b",
   "metadata": {},
   "source": [
    "1 - Chargement de jeu de données iris "
   ]
  },
  {
   "cell_type": "code",
   "execution_count": 4,
   "id": "505e9f4b-8710-42c7-9bdb-9b7d5ceacd22",
   "metadata": {},
   "outputs": [],
   "source": [
    "iris = load_iris()\n",
    "X = iris.data\n",
    "y = iris.target"
   ]
  },
  {
   "cell_type": "markdown",
   "id": "d9ed0deb-826c-400a-bb49-a62d664e85f3",
   "metadata": {},
   "source": [
    "2 - Normalisation des données avec RobustScaler "
   ]
  },
  {
   "cell_type": "code",
   "execution_count": 5,
   "id": "9af3059e-f216-48e9-9e4a-08f3f3499f7b",
   "metadata": {},
   "outputs": [],
   "source": [
    "scaler = RobustScaler()\n",
    "X_scaled = scaler.fit_transform(X)"
   ]
  },
  {
   "cell_type": "markdown",
   "id": "600a6aca-4c98-424e-9b52-1405c459d31a",
   "metadata": {},
   "source": [
    "3- Réduction des variables indépendantes en 3 composantes "
   ]
  },
  {
   "cell_type": "code",
   "execution_count": 6,
   "id": "567c2465-3c85-47c2-99a9-75b2d8aaf460",
   "metadata": {},
   "outputs": [],
   "source": [
    "pca = PCA(n_components=3)\n",
    "X_pca = pca.fit_transform(X_scaled)"
   ]
  },
  {
   "cell_type": "markdown",
   "id": "5b746255-ca57-4165-a4c4-5ecb976b1a99",
   "metadata": {},
   "source": [
    "4- Division des données en ensembles d'entraînement et de test"
   ]
  },
  {
   "cell_type": "code",
   "execution_count": 7,
   "id": "10cca832-71e0-4dc5-af69-104902a50036",
   "metadata": {},
   "outputs": [],
   "source": [
    "X_train, X_test, y_train, y_test = train_test_split(X_pca, y, test_size=0.2, random_state=42)"
   ]
  },
  {
   "cell_type": "markdown",
   "id": "df602cd4-a8b8-438f-87c0-e85f5421c516",
   "metadata": {},
   "source": [
    "5-  Création du modèle de régression logistique multiclass"
   ]
  },
  {
   "cell_type": "code",
   "execution_count": 8,
   "id": "7b20f8d1-1a89-4185-acb3-111d68ac42f2",
   "metadata": {},
   "outputs": [
    {
     "data": {
      "text/html": [
       "<style>#sk-container-id-1 {color: black;}#sk-container-id-1 pre{padding: 0;}#sk-container-id-1 div.sk-toggleable {background-color: white;}#sk-container-id-1 label.sk-toggleable__label {cursor: pointer;display: block;width: 100%;margin-bottom: 0;padding: 0.3em;box-sizing: border-box;text-align: center;}#sk-container-id-1 label.sk-toggleable__label-arrow:before {content: \"▸\";float: left;margin-right: 0.25em;color: #696969;}#sk-container-id-1 label.sk-toggleable__label-arrow:hover:before {color: black;}#sk-container-id-1 div.sk-estimator:hover label.sk-toggleable__label-arrow:before {color: black;}#sk-container-id-1 div.sk-toggleable__content {max-height: 0;max-width: 0;overflow: hidden;text-align: left;background-color: #f0f8ff;}#sk-container-id-1 div.sk-toggleable__content pre {margin: 0.2em;color: black;border-radius: 0.25em;background-color: #f0f8ff;}#sk-container-id-1 input.sk-toggleable__control:checked~div.sk-toggleable__content {max-height: 200px;max-width: 100%;overflow: auto;}#sk-container-id-1 input.sk-toggleable__control:checked~label.sk-toggleable__label-arrow:before {content: \"▾\";}#sk-container-id-1 div.sk-estimator input.sk-toggleable__control:checked~label.sk-toggleable__label {background-color: #d4ebff;}#sk-container-id-1 div.sk-label input.sk-toggleable__control:checked~label.sk-toggleable__label {background-color: #d4ebff;}#sk-container-id-1 input.sk-hidden--visually {border: 0;clip: rect(1px 1px 1px 1px);clip: rect(1px, 1px, 1px, 1px);height: 1px;margin: -1px;overflow: hidden;padding: 0;position: absolute;width: 1px;}#sk-container-id-1 div.sk-estimator {font-family: monospace;background-color: #f0f8ff;border: 1px dotted black;border-radius: 0.25em;box-sizing: border-box;margin-bottom: 0.5em;}#sk-container-id-1 div.sk-estimator:hover {background-color: #d4ebff;}#sk-container-id-1 div.sk-parallel-item::after {content: \"\";width: 100%;border-bottom: 1px solid gray;flex-grow: 1;}#sk-container-id-1 div.sk-label:hover label.sk-toggleable__label {background-color: #d4ebff;}#sk-container-id-1 div.sk-serial::before {content: \"\";position: absolute;border-left: 1px solid gray;box-sizing: border-box;top: 0;bottom: 0;left: 50%;z-index: 0;}#sk-container-id-1 div.sk-serial {display: flex;flex-direction: column;align-items: center;background-color: white;padding-right: 0.2em;padding-left: 0.2em;position: relative;}#sk-container-id-1 div.sk-item {position: relative;z-index: 1;}#sk-container-id-1 div.sk-parallel {display: flex;align-items: stretch;justify-content: center;background-color: white;position: relative;}#sk-container-id-1 div.sk-item::before, #sk-container-id-1 div.sk-parallel-item::before {content: \"\";position: absolute;border-left: 1px solid gray;box-sizing: border-box;top: 0;bottom: 0;left: 50%;z-index: -1;}#sk-container-id-1 div.sk-parallel-item {display: flex;flex-direction: column;z-index: 1;position: relative;background-color: white;}#sk-container-id-1 div.sk-parallel-item:first-child::after {align-self: flex-end;width: 50%;}#sk-container-id-1 div.sk-parallel-item:last-child::after {align-self: flex-start;width: 50%;}#sk-container-id-1 div.sk-parallel-item:only-child::after {width: 0;}#sk-container-id-1 div.sk-dashed-wrapped {border: 1px dashed gray;margin: 0 0.4em 0.5em 0.4em;box-sizing: border-box;padding-bottom: 0.4em;background-color: white;}#sk-container-id-1 div.sk-label label {font-family: monospace;font-weight: bold;display: inline-block;line-height: 1.2em;}#sk-container-id-1 div.sk-label-container {text-align: center;}#sk-container-id-1 div.sk-container {/* jupyter's `normalize.less` sets `[hidden] { display: none; }` but bootstrap.min.css set `[hidden] { display: none !important; }` so we also need the `!important` here to be able to override the default hidden behavior on the sphinx rendered scikit-learn.org. See: https://github.com/scikit-learn/scikit-learn/issues/21755 */display: inline-block !important;position: relative;}#sk-container-id-1 div.sk-text-repr-fallback {display: none;}</style><div id=\"sk-container-id-1\" class=\"sk-top-container\"><div class=\"sk-text-repr-fallback\"><pre>LogisticRegression(max_iter=1000, multi_class=&#x27;multinomial&#x27;)</pre><b>In a Jupyter environment, please rerun this cell to show the HTML representation or trust the notebook. <br />On GitHub, the HTML representation is unable to render, please try loading this page with nbviewer.org.</b></div><div class=\"sk-container\" hidden><div class=\"sk-item\"><div class=\"sk-estimator sk-toggleable\"><input class=\"sk-toggleable__control sk-hidden--visually\" id=\"sk-estimator-id-1\" type=\"checkbox\" checked><label for=\"sk-estimator-id-1\" class=\"sk-toggleable__label sk-toggleable__label-arrow\">LogisticRegression</label><div class=\"sk-toggleable__content\"><pre>LogisticRegression(max_iter=1000, multi_class=&#x27;multinomial&#x27;)</pre></div></div></div></div></div>"
      ],
      "text/plain": [
       "LogisticRegression(max_iter=1000, multi_class='multinomial')"
      ]
     },
     "execution_count": 8,
     "metadata": {},
     "output_type": "execute_result"
    }
   ],
   "source": [
    "logistic_model = LogisticRegression(multi_class='multinomial', max_iter=1000)\n",
    "logistic_model.fit(X_train, y_train)"
   ]
  },
  {
   "cell_type": "markdown",
   "id": "0aa79a16-5d3f-46b1-9b5b-a7ec982cfd71",
   "metadata": {},
   "source": [
    "6- Les prédictions"
   ]
  },
  {
   "cell_type": "code",
   "execution_count": 9,
   "id": "16550575-2744-473e-8a50-1e54780abf5d",
   "metadata": {},
   "outputs": [],
   "source": [
    "y_pred = logistic_model.predict(X_test)"
   ]
  },
  {
   "cell_type": "markdown",
   "id": "390e47d6-3977-44f8-a905-1a243eebed01",
   "metadata": {},
   "source": [
    "7- Calcule de la matrice de confusion"
   ]
  },
  {
   "cell_type": "code",
   "execution_count": 10,
   "id": "db5a6c4e-7316-474f-8a22-d5db2f0e15bc",
   "metadata": {},
   "outputs": [],
   "source": [
    "confusion_matrix_logistic = confusion_matrix(y_test, y_pred)"
   ]
  },
  {
   "cell_type": "markdown",
   "id": "b4dd6eb0-deb1-4451-9cd6-8e7c323c6abf",
   "metadata": {},
   "source": [
    "8- Calcule des quatre métriques d'évaluation"
   ]
  },
  {
   "cell_type": "code",
   "execution_count": 11,
   "id": "32c94417-9b48-4c18-8976-31018e0d18e8",
   "metadata": {},
   "outputs": [],
   "source": [
    "accuracy_logistic = accuracy_score(y_test, y_pred)\n",
    "precision_logistic = precision_score(y_test, y_pred, average='weighted')\n",
    "recall_logistic = recall_score(y_test, y_pred, average='weighted')\n",
    "f1_logistic = f1_score(y_test, y_pred, average='weighted')"
   ]
  },
  {
   "cell_type": "markdown",
   "id": "de3e4eb1-18fd-4017-80ce-0207248b0a51",
   "metadata": {},
   "source": [
    "9- Affichage des résultatsd')"
   ]
  },
  {
   "cell_type": "code",
   "execution_count": 12,
   "id": "32b71b12-99ae-428c-8d89-ef8cb375f91a",
   "metadata": {},
   "outputs": [
    {
     "name": "stdout",
     "output_type": "stream",
     "text": [
      "Matrice de confusion pour la régression logistique multiclass :\n",
      " [[10  0  0]\n",
      " [ 0  9  0]\n",
      " [ 0  0 11]]\n",
      "Accuracy :  1.0\n",
      "Precision :  1.0\n",
      "Recall :  1.0\n",
      "F1 Score :  1.0\n"
     ]
    }
   ],
   "source": [
    "print(\"Matrice de confusion pour la régression logistique multiclass :\\n\", confusion_matrix_logistic)\n",
    "print(\"Accuracy : \", accuracy_logistic)\n",
    "print(\"Precision : \", precision_logistic)\n",
    "print(\"Recall : \", recall_logistic)\n",
    "print(\"F1 Score : \", f1_logistic)"
   ]
  }
 ],
 "metadata": {
  "kernelspec": {
   "display_name": "Python 3 (ipykernel)",
   "language": "python",
   "name": "python3"
  },
  "language_info": {
   "codemirror_mode": {
    "name": "ipython",
    "version": 3
   },
   "file_extension": ".py",
   "mimetype": "text/x-python",
   "name": "python",
   "nbconvert_exporter": "python",
   "pygments_lexer": "ipython3",
   "version": "3.11.5"
  }
 },
 "nbformat": 4,
 "nbformat_minor": 5
}
