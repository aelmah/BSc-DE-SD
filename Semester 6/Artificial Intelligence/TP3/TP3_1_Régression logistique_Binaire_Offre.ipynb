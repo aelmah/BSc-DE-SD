{
 "cells": [
  {
   "cell_type": "markdown",
   "id": "2af13fdc-b459-4738-9f25-522faaed175f",
   "metadata": {},
   "source": [
    "#### TP3 : Régression logistique Binaire "
   ]
  },
  {
   "cell_type": "markdown",
   "id": "122b3fb5-862b-4f2f-bbe1-f00f40c3024c",
   "metadata": {},
   "source": [
    "* Dataset : Offre"
   ]
  },
  {
   "cell_type": "markdown",
   "id": "c20a26bb-2d13-482b-960a-e5b84504a3a1",
   "metadata": {},
   "source": [
    "1- Import des bibliothèques "
   ]
  },
  {
   "cell_type": "code",
   "execution_count": 8,
   "id": "f1fbf8ff-4340-4e8c-91f3-45f89654fad7",
   "metadata": {},
   "outputs": [],
   "source": [
    "import pandas as pd\n",
    "from sklearn.model_selection import train_test_split\n",
    "from sklearn.preprocessing import RobustScaler, LabelEncoder\n",
    "from sklearn.decomposition import PCA\n",
    "from sklearn.linear_model import LogisticRegression\n",
    "from sklearn.metrics import confusion_matrix, accuracy_score, precision_score, recall_score, f1_score"
   ]
  },
  {
   "cell_type": "markdown",
   "id": "9080477a-4104-4c95-b6cc-3dac50216871",
   "metadata": {},
   "source": [
    "2 - Chargement des données "
   ]
  },
  {
   "cell_type": "code",
   "execution_count": 3,
   "id": "cda79d5f-2912-4881-9203-c21ff53c1441",
   "metadata": {},
   "outputs": [
    {
     "data": {
      "text/html": [
       "<div>\n",
       "<style scoped>\n",
       "    .dataframe tbody tr th:only-of-type {\n",
       "        vertical-align: middle;\n",
       "    }\n",
       "\n",
       "    .dataframe tbody tr th {\n",
       "        vertical-align: top;\n",
       "    }\n",
       "\n",
       "    .dataframe thead th {\n",
       "        text-align: right;\n",
       "    }\n",
       "</style>\n",
       "<table border=\"1\" class=\"dataframe\">\n",
       "  <thead>\n",
       "    <tr style=\"text-align: right;\">\n",
       "      <th></th>\n",
       "      <th>Age</th>\n",
       "      <th>Gender</th>\n",
       "      <th>Offer</th>\n",
       "    </tr>\n",
       "  </thead>\n",
       "  <tbody>\n",
       "    <tr>\n",
       "      <th>0</th>\n",
       "      <td>38</td>\n",
       "      <td>Female</td>\n",
       "      <td>0</td>\n",
       "    </tr>\n",
       "    <tr>\n",
       "      <th>1</th>\n",
       "      <td>32</td>\n",
       "      <td>Female</td>\n",
       "      <td>0</td>\n",
       "    </tr>\n",
       "    <tr>\n",
       "      <th>2</th>\n",
       "      <td>46</td>\n",
       "      <td>Male</td>\n",
       "      <td>1</td>\n",
       "    </tr>\n",
       "    <tr>\n",
       "      <th>3</th>\n",
       "      <td>34</td>\n",
       "      <td>Male</td>\n",
       "      <td>0</td>\n",
       "    </tr>\n",
       "    <tr>\n",
       "      <th>4</th>\n",
       "      <td>40</td>\n",
       "      <td>Male</td>\n",
       "      <td>0</td>\n",
       "    </tr>\n",
       "    <tr>\n",
       "      <th>...</th>\n",
       "      <td>...</td>\n",
       "      <td>...</td>\n",
       "      <td>...</td>\n",
       "    </tr>\n",
       "    <tr>\n",
       "      <th>95</th>\n",
       "      <td>31</td>\n",
       "      <td>Male</td>\n",
       "      <td>0</td>\n",
       "    </tr>\n",
       "    <tr>\n",
       "      <th>96</th>\n",
       "      <td>49</td>\n",
       "      <td>Male</td>\n",
       "      <td>1</td>\n",
       "    </tr>\n",
       "    <tr>\n",
       "      <th>97</th>\n",
       "      <td>36</td>\n",
       "      <td>Male</td>\n",
       "      <td>0</td>\n",
       "    </tr>\n",
       "    <tr>\n",
       "      <th>98</th>\n",
       "      <td>32</td>\n",
       "      <td>Female</td>\n",
       "      <td>0</td>\n",
       "    </tr>\n",
       "    <tr>\n",
       "      <th>99</th>\n",
       "      <td>34</td>\n",
       "      <td>Female</td>\n",
       "      <td>0</td>\n",
       "    </tr>\n",
       "  </tbody>\n",
       "</table>\n",
       "<p>100 rows × 3 columns</p>\n",
       "</div>"
      ],
      "text/plain": [
       "    Age  Gender  Offer\n",
       "0    38  Female      0\n",
       "1    32  Female      0\n",
       "2    46    Male      1\n",
       "3    34    Male      0\n",
       "4    40    Male      0\n",
       "..  ...     ...    ...\n",
       "95   31    Male      0\n",
       "96   49    Male      1\n",
       "97   36    Male      0\n",
       "98   32  Female      0\n",
       "99   34  Female      0\n",
       "\n",
       "[100 rows x 3 columns]"
      ]
     },
     "execution_count": 3,
     "metadata": {},
     "output_type": "execute_result"
    }
   ],
   "source": [
    "df = pd.read_csv('Datasets/offre.csv')\n",
    "df"
   ]
  },
  {
   "cell_type": "markdown",
   "id": "6bcf0435-7d19-4c12-905e-b960f3331d9d",
   "metadata": {},
   "source": [
    "3- Encodage du variable catégorielle Gender en nombres "
   ]
  },
  {
   "cell_type": "code",
   "execution_count": 11,
   "id": "50641896-3e29-4aa0-9a5a-196845e1d982",
   "metadata": {},
   "outputs": [],
   "source": [
    "le = LabelEncoder()\n",
    "df['Gender'] = le.fit_transform(df['Gender'])"
   ]
  },
  {
   "cell_type": "markdown",
   "id": "93463c44-b3cf-4515-aba6-352e3227e67a",
   "metadata": {},
   "source": [
    "4- Division du dataset en features (X) et la variable cible (y)"
   ]
  },
  {
   "cell_type": "code",
   "execution_count": 12,
   "id": "e2dc990f-81aa-4299-bf92-7c89dec43721",
   "metadata": {},
   "outputs": [],
   "source": [
    "X = df [['Age', 'Gender']]\n",
    "Y = df['Offer']"
   ]
  },
  {
   "cell_type": "markdown",
   "id": "12e4acd4-72d1-4f58-9a22-b01f74d3de49",
   "metadata": {},
   "source": [
    "5- Normalisation avec la méthode RobustScaler"
   ]
  },
  {
   "cell_type": "code",
   "execution_count": 13,
   "id": "2294661a-9b2d-4a7e-bcf4-288e06042f01",
   "metadata": {},
   "outputs": [],
   "source": [
    "scaler = RobustScaler()\n",
    "X_scaled = scaler.fit_transform(X)"
   ]
  },
  {
   "cell_type": "markdown",
   "id": "9150c324-882b-4433-98a0-827bc49add0e",
   "metadata": {},
   "source": [
    "6- Réduction des variables indépendantes en 3 composantes en utilisant PCA "
   ]
  },
  {
   "cell_type": "code",
   "execution_count": 18,
   "id": "67db6438-d679-4f6c-9db8-569c3b4114ae",
   "metadata": {},
   "outputs": [],
   "source": [
    "pca = PCA(n_components=2)\n",
    "X_pca = pca.fit_transform(X_scaled)"
   ]
  },
  {
   "cell_type": "markdown",
   "id": "d8248ad2-bb6d-440d-82c1-d89318d89990",
   "metadata": {},
   "source": [
    "7- Division du datasets en ensemble d'entrainement et du test "
   ]
  },
  {
   "cell_type": "code",
   "execution_count": 22,
   "id": "020148a8-9b40-4dd7-bf46-1f431d7e5501",
   "metadata": {},
   "outputs": [],
   "source": [
    "X_train, X_test, Y_train, Y_test = train_test_split(X_pca, Y, test_size=0.2, random_state=42)"
   ]
  },
  {
   "cell_type": "markdown",
   "id": "3c0582db-329f-4cf1-afad-48a50d7360bd",
   "metadata": {},
   "source": [
    "8- Création du modèle de régression linéaire "
   ]
  },
  {
   "cell_type": "code",
   "execution_count": 23,
   "id": "a3fd381d-9e4a-40eb-95cb-55275921934a",
   "metadata": {},
   "outputs": [
    {
     "data": {
      "text/html": [
       "<style>#sk-container-id-1 {color: black;}#sk-container-id-1 pre{padding: 0;}#sk-container-id-1 div.sk-toggleable {background-color: white;}#sk-container-id-1 label.sk-toggleable__label {cursor: pointer;display: block;width: 100%;margin-bottom: 0;padding: 0.3em;box-sizing: border-box;text-align: center;}#sk-container-id-1 label.sk-toggleable__label-arrow:before {content: \"▸\";float: left;margin-right: 0.25em;color: #696969;}#sk-container-id-1 label.sk-toggleable__label-arrow:hover:before {color: black;}#sk-container-id-1 div.sk-estimator:hover label.sk-toggleable__label-arrow:before {color: black;}#sk-container-id-1 div.sk-toggleable__content {max-height: 0;max-width: 0;overflow: hidden;text-align: left;background-color: #f0f8ff;}#sk-container-id-1 div.sk-toggleable__content pre {margin: 0.2em;color: black;border-radius: 0.25em;background-color: #f0f8ff;}#sk-container-id-1 input.sk-toggleable__control:checked~div.sk-toggleable__content {max-height: 200px;max-width: 100%;overflow: auto;}#sk-container-id-1 input.sk-toggleable__control:checked~label.sk-toggleable__label-arrow:before {content: \"▾\";}#sk-container-id-1 div.sk-estimator input.sk-toggleable__control:checked~label.sk-toggleable__label {background-color: #d4ebff;}#sk-container-id-1 div.sk-label input.sk-toggleable__control:checked~label.sk-toggleable__label {background-color: #d4ebff;}#sk-container-id-1 input.sk-hidden--visually {border: 0;clip: rect(1px 1px 1px 1px);clip: rect(1px, 1px, 1px, 1px);height: 1px;margin: -1px;overflow: hidden;padding: 0;position: absolute;width: 1px;}#sk-container-id-1 div.sk-estimator {font-family: monospace;background-color: #f0f8ff;border: 1px dotted black;border-radius: 0.25em;box-sizing: border-box;margin-bottom: 0.5em;}#sk-container-id-1 div.sk-estimator:hover {background-color: #d4ebff;}#sk-container-id-1 div.sk-parallel-item::after {content: \"\";width: 100%;border-bottom: 1px solid gray;flex-grow: 1;}#sk-container-id-1 div.sk-label:hover label.sk-toggleable__label {background-color: #d4ebff;}#sk-container-id-1 div.sk-serial::before {content: \"\";position: absolute;border-left: 1px solid gray;box-sizing: border-box;top: 0;bottom: 0;left: 50%;z-index: 0;}#sk-container-id-1 div.sk-serial {display: flex;flex-direction: column;align-items: center;background-color: white;padding-right: 0.2em;padding-left: 0.2em;position: relative;}#sk-container-id-1 div.sk-item {position: relative;z-index: 1;}#sk-container-id-1 div.sk-parallel {display: flex;align-items: stretch;justify-content: center;background-color: white;position: relative;}#sk-container-id-1 div.sk-item::before, #sk-container-id-1 div.sk-parallel-item::before {content: \"\";position: absolute;border-left: 1px solid gray;box-sizing: border-box;top: 0;bottom: 0;left: 50%;z-index: -1;}#sk-container-id-1 div.sk-parallel-item {display: flex;flex-direction: column;z-index: 1;position: relative;background-color: white;}#sk-container-id-1 div.sk-parallel-item:first-child::after {align-self: flex-end;width: 50%;}#sk-container-id-1 div.sk-parallel-item:last-child::after {align-self: flex-start;width: 50%;}#sk-container-id-1 div.sk-parallel-item:only-child::after {width: 0;}#sk-container-id-1 div.sk-dashed-wrapped {border: 1px dashed gray;margin: 0 0.4em 0.5em 0.4em;box-sizing: border-box;padding-bottom: 0.4em;background-color: white;}#sk-container-id-1 div.sk-label label {font-family: monospace;font-weight: bold;display: inline-block;line-height: 1.2em;}#sk-container-id-1 div.sk-label-container {text-align: center;}#sk-container-id-1 div.sk-container {/* jupyter's `normalize.less` sets `[hidden] { display: none; }` but bootstrap.min.css set `[hidden] { display: none !important; }` so we also need the `!important` here to be able to override the default hidden behavior on the sphinx rendered scikit-learn.org. See: https://github.com/scikit-learn/scikit-learn/issues/21755 */display: inline-block !important;position: relative;}#sk-container-id-1 div.sk-text-repr-fallback {display: none;}</style><div id=\"sk-container-id-1\" class=\"sk-top-container\"><div class=\"sk-text-repr-fallback\"><pre>LogisticRegression()</pre><b>In a Jupyter environment, please rerun this cell to show the HTML representation or trust the notebook. <br />On GitHub, the HTML representation is unable to render, please try loading this page with nbviewer.org.</b></div><div class=\"sk-container\" hidden><div class=\"sk-item\"><div class=\"sk-estimator sk-toggleable\"><input class=\"sk-toggleable__control sk-hidden--visually\" id=\"sk-estimator-id-1\" type=\"checkbox\" checked><label for=\"sk-estimator-id-1\" class=\"sk-toggleable__label sk-toggleable__label-arrow\">LogisticRegression</label><div class=\"sk-toggleable__content\"><pre>LogisticRegression()</pre></div></div></div></div></div>"
      ],
      "text/plain": [
       "LogisticRegression()"
      ]
     },
     "execution_count": 23,
     "metadata": {},
     "output_type": "execute_result"
    }
   ],
   "source": [
    "model = LogisticRegression()\n",
    "model.fit(X_train, Y_train)"
   ]
  },
  {
   "cell_type": "markdown",
   "id": "8da294dc-6128-40f5-8ca7-6caca25a19e4",
   "metadata": {},
   "source": [
    "9- prédiction sur l'ensemble du test "
   ]
  },
  {
   "cell_type": "code",
   "execution_count": 24,
   "id": "1b1ae34e-2c88-489a-8a2b-7e7c0a81d6b0",
   "metadata": {},
   "outputs": [],
   "source": [
    "Y_pred = model.predict(X_test)"
   ]
  },
  {
   "cell_type": "markdown",
   "id": "a3f8eaea-50a6-4aaa-b244-14f8e819d8b7",
   "metadata": {},
   "source": [
    "10- Calcul de la matrice de confusion "
   ]
  },
  {
   "cell_type": "code",
   "execution_count": 25,
   "id": "121c540b-1263-4199-a35f-b82b4f63405a",
   "metadata": {},
   "outputs": [],
   "source": [
    "conf_matrix = confusion_matrix(Y_test, Y_pred)"
   ]
  },
  {
   "cell_type": "markdown",
   "id": "6152655a-34cb-4626-9154-da2dee0ec4d5",
   "metadata": {},
   "source": [
    "11- les quatre métriques d'évaluation"
   ]
  },
  {
   "cell_type": "code",
   "execution_count": 26,
   "id": "4b39495f-e4a9-4d4f-b2cd-2fce15fb59ae",
   "metadata": {},
   "outputs": [],
   "source": [
    "accuracy = accuracy_score(Y_test, Y_pred)\n",
    "precision = precision_score(Y_test, Y_pred)\n",
    "recall = recall_score(Y_test, Y_pred)\n",
    "f1 = f1_score(Y_test, Y_pred)"
   ]
  },
  {
   "cell_type": "markdown",
   "id": "dae9a93a-da7c-463b-9662-294d3094e046",
   "metadata": {},
   "source": [
    "12- Affichage des résultats "
   ]
  },
  {
   "cell_type": "code",
   "execution_count": 27,
   "id": "cf78507d-e983-4170-aad1-1478613d2c41",
   "metadata": {},
   "outputs": [
    {
     "name": "stdout",
     "output_type": "stream",
     "text": [
      "Matrice de Confusion:\n",
      " [[10  1]\n",
      " [ 1  8]]\n",
      "\n",
      "Métriques d'évaluation:\n",
      "Précision: 0.8888888888888888\n",
      "Rappel: 0.8888888888888888\n",
      "F1-score: 0.8888888888888888\n",
      "Précision Globale: 0.9\n"
     ]
    }
   ],
   "source": [
    "print(\"Matrice de Confusion:\\n\", conf_matrix)\n",
    "print(\"\\nMétriques d'évaluation:\")\n",
    "print(f\"Précision: {precision}\")\n",
    "print(f\"Rappel: {recall}\")\n",
    "print(f\"F1-score: {f1}\")\n",
    "print(f\"Précision Globale: {accuracy}\")"
   ]
  },
  {
   "cell_type": "markdown",
   "id": "f9f69677-a029-491c-9dde-cbdcb0c0622b",
   "metadata": {},
   "source": [
    "13- Classification d'une réponse à une offre d'une femme de l'âge 30 ans"
   ]
  },
  {
   "cell_type": "code",
   "execution_count": null,
   "id": "4726e744-c681-4717-99a0-e7cd9209609b",
   "metadata": {},
   "outputs": [],
   "source": []
  }
 ],
 "metadata": {
  "kernelspec": {
   "display_name": "Python 3 (ipykernel)",
   "language": "python",
   "name": "python3"
  },
  "language_info": {
   "codemirror_mode": {
    "name": "ipython",
    "version": 3
   },
   "file_extension": ".py",
   "mimetype": "text/x-python",
   "name": "python",
   "nbconvert_exporter": "python",
   "pygments_lexer": "ipython3",
   "version": "3.11.5"
  }
 },
 "nbformat": 4,
 "nbformat_minor": 5
}
