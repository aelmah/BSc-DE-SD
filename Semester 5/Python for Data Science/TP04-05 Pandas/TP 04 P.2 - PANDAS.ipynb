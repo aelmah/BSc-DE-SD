{
 "cells": [
  {
   "cell_type": "code",
   "execution_count": 27,
   "metadata": {},
   "outputs": [],
   "source": [
    "import pandas as pd"
   ]
  },
  {
   "cell_type": "code",
   "execution_count": 28,
   "metadata": {},
   "outputs": [
    {
     "data": {
      "text/html": [
       "<div>\n",
       "<style scoped>\n",
       "    .dataframe tbody tr th:only-of-type {\n",
       "        vertical-align: middle;\n",
       "    }\n",
       "\n",
       "    .dataframe tbody tr th {\n",
       "        vertical-align: top;\n",
       "    }\n",
       "\n",
       "    .dataframe thead th {\n",
       "        text-align: right;\n",
       "    }\n",
       "</style>\n",
       "<table border=\"1\" class=\"dataframe\">\n",
       "  <thead>\n",
       "    <tr style=\"text-align: right;\">\n",
       "      <th></th>\n",
       "      <th>Id</th>\n",
       "      <th>Nom</th>\n",
       "      <th>Prenom</th>\n",
       "      <th>Université</th>\n",
       "      <th>Grade</th>\n",
       "      <th>Spécialité</th>\n",
       "      <th>Structure de recherche Porteuse</th>\n",
       "      <th>Membre des structures de recherche partenaires</th>\n",
       "      <th>Unnamed: 8</th>\n",
       "      <th>Unnamed: 9</th>\n",
       "      <th>Unnamed: 10</th>\n",
       "      <th>Publications Scientifiques</th>\n",
       "      <th>Unnamed: 12</th>\n",
       "    </tr>\n",
       "  </thead>\n",
       "  <tbody>\n",
       "    <tr>\n",
       "      <th>0</th>\n",
       "      <td>NaN</td>\n",
       "      <td>NaN</td>\n",
       "      <td>NaN</td>\n",
       "      <td>NaN</td>\n",
       "      <td>NaN</td>\n",
       "      <td>NaN</td>\n",
       "      <td>NaN</td>\n",
       "      <td>Nom et Prénom</td>\n",
       "      <td>Grade</td>\n",
       "      <td>Spécialité</td>\n",
       "      <td>Intitulé de la structure</td>\n",
       "      <td>NaN</td>\n",
       "      <td>NaN</td>\n",
       "    </tr>\n",
       "    <tr>\n",
       "      <th>1</th>\n",
       "      <td>1.0</td>\n",
       "      <td>Hakam</td>\n",
       "      <td>Amine</td>\n",
       "      <td>UM5R</td>\n",
       "      <td>PES</td>\n",
       "      <td>Informatique</td>\n",
       "      <td>IPSS</td>\n",
       "      <td>chercheur 1</td>\n",
       "      <td>PA</td>\n",
       "      <td>Informatique</td>\n",
       "      <td>IPSS</td>\n",
       "      <td>Nombre des articles</td>\n",
       "      <td>20.0</td>\n",
       "    </tr>\n",
       "    <tr>\n",
       "      <th>2</th>\n",
       "      <td>1.0</td>\n",
       "      <td>Hakam</td>\n",
       "      <td>Amine</td>\n",
       "      <td>UM5R</td>\n",
       "      <td>PES</td>\n",
       "      <td>Informatique</td>\n",
       "      <td>IPSS</td>\n",
       "      <td>chercheur 2</td>\n",
       "      <td>PES</td>\n",
       "      <td>Informatique</td>\n",
       "      <td>SSBK</td>\n",
       "      <td>Nombre des communications</td>\n",
       "      <td>10.0</td>\n",
       "    </tr>\n",
       "    <tr>\n",
       "      <th>3</th>\n",
       "      <td>1.0</td>\n",
       "      <td>Hakam</td>\n",
       "      <td>Amine</td>\n",
       "      <td>UM5R</td>\n",
       "      <td>PES</td>\n",
       "      <td>Informatique</td>\n",
       "      <td>IPSS</td>\n",
       "      <td>chercheur 3</td>\n",
       "      <td>PA</td>\n",
       "      <td>Informatique</td>\n",
       "      <td>MISC</td>\n",
       "      <td>Nombre de thèses encadrées</td>\n",
       "      <td>4.0</td>\n",
       "    </tr>\n",
       "    <tr>\n",
       "      <th>4</th>\n",
       "      <td>1.0</td>\n",
       "      <td>Hakam</td>\n",
       "      <td>Amine</td>\n",
       "      <td>UM5R</td>\n",
       "      <td>PES</td>\n",
       "      <td>Informatique</td>\n",
       "      <td>IPSS</td>\n",
       "      <td>chercheur 4</td>\n",
       "      <td>PA</td>\n",
       "      <td>Santé</td>\n",
       "      <td>H2C</td>\n",
       "      <td>Nombre de thèses encadrées</td>\n",
       "      <td>4.0</td>\n",
       "    </tr>\n",
       "    <tr>\n",
       "      <th>5</th>\n",
       "      <td>2.0</td>\n",
       "      <td>Chakour</td>\n",
       "      <td>Hatim</td>\n",
       "      <td>UIT</td>\n",
       "      <td>PES</td>\n",
       "      <td>Informatique</td>\n",
       "      <td>MISC</td>\n",
       "      <td>chercheur A</td>\n",
       "      <td>PES</td>\n",
       "      <td>Physique</td>\n",
       "      <td>KZEE</td>\n",
       "      <td>Nombre des articles</td>\n",
       "      <td>10.0</td>\n",
       "    </tr>\n",
       "    <tr>\n",
       "      <th>6</th>\n",
       "      <td>2.0</td>\n",
       "      <td>Chakour</td>\n",
       "      <td>Hatim</td>\n",
       "      <td>UIT</td>\n",
       "      <td>PES</td>\n",
       "      <td>Informatique</td>\n",
       "      <td>MISC</td>\n",
       "      <td>chercheur B</td>\n",
       "      <td>PES</td>\n",
       "      <td>Informatique</td>\n",
       "      <td>S2SD</td>\n",
       "      <td>Nombre des communications</td>\n",
       "      <td>5.0</td>\n",
       "    </tr>\n",
       "    <tr>\n",
       "      <th>7</th>\n",
       "      <td>2.0</td>\n",
       "      <td>Chakour</td>\n",
       "      <td>Hatim</td>\n",
       "      <td>UIT</td>\n",
       "      <td>PES</td>\n",
       "      <td>Informatique</td>\n",
       "      <td>MISC</td>\n",
       "      <td>chercheur C</td>\n",
       "      <td>PH</td>\n",
       "      <td>Informatique</td>\n",
       "      <td>MISC</td>\n",
       "      <td>Nombre de thèses encadrées</td>\n",
       "      <td>3.0</td>\n",
       "    </tr>\n",
       "    <tr>\n",
       "      <th>8</th>\n",
       "      <td>2.0</td>\n",
       "      <td>Chakour</td>\n",
       "      <td>Hatim</td>\n",
       "      <td>UIT</td>\n",
       "      <td>PES</td>\n",
       "      <td>Informatique</td>\n",
       "      <td>MISC</td>\n",
       "      <td>chercheur D</td>\n",
       "      <td>PA</td>\n",
       "      <td>Santé</td>\n",
       "      <td>MISC</td>\n",
       "      <td>Nombre de thèses encadrées</td>\n",
       "      <td>3.0</td>\n",
       "    </tr>\n",
       "    <tr>\n",
       "      <th>9</th>\n",
       "      <td>2.0</td>\n",
       "      <td>Chakour</td>\n",
       "      <td>Hatim</td>\n",
       "      <td>UIT</td>\n",
       "      <td>PES</td>\n",
       "      <td>Informatique</td>\n",
       "      <td>MISC</td>\n",
       "      <td>chercheur E</td>\n",
       "      <td>PA</td>\n",
       "      <td>Physique</td>\n",
       "      <td>KZEE</td>\n",
       "      <td>Nombre de thèses encadrées</td>\n",
       "      <td>3.0</td>\n",
       "    </tr>\n",
       "    <tr>\n",
       "      <th>10</th>\n",
       "      <td>3.0</td>\n",
       "      <td>Amouri</td>\n",
       "      <td>Aya</td>\n",
       "      <td>UIZ</td>\n",
       "      <td>PH</td>\n",
       "      <td>Informatique</td>\n",
       "      <td>FFSD</td>\n",
       "      <td>chercheur a1</td>\n",
       "      <td>PH</td>\n",
       "      <td>Informatique</td>\n",
       "      <td>FFSD</td>\n",
       "      <td>Nombre des articles</td>\n",
       "      <td>15.0</td>\n",
       "    </tr>\n",
       "    <tr>\n",
       "      <th>11</th>\n",
       "      <td>3.0</td>\n",
       "      <td>Amouri</td>\n",
       "      <td>Aya</td>\n",
       "      <td>UIZ</td>\n",
       "      <td>PH</td>\n",
       "      <td>Informatique</td>\n",
       "      <td>FFSD</td>\n",
       "      <td>chercheur a11</td>\n",
       "      <td>PH</td>\n",
       "      <td>Informatique</td>\n",
       "      <td>FFSD</td>\n",
       "      <td>Nombre des communications</td>\n",
       "      <td>15.0</td>\n",
       "    </tr>\n",
       "    <tr>\n",
       "      <th>12</th>\n",
       "      <td>3.0</td>\n",
       "      <td>Amouri</td>\n",
       "      <td>Aya</td>\n",
       "      <td>UIZ</td>\n",
       "      <td>PH</td>\n",
       "      <td>Informatique</td>\n",
       "      <td>FFSD</td>\n",
       "      <td>chercheur a22</td>\n",
       "      <td>PH</td>\n",
       "      <td>Electrique</td>\n",
       "      <td>ZQW</td>\n",
       "      <td>Nombre de thèses encadrées</td>\n",
       "      <td>7.0</td>\n",
       "    </tr>\n",
       "    <tr>\n",
       "      <th>13</th>\n",
       "      <td>3.0</td>\n",
       "      <td>Amouri</td>\n",
       "      <td>Aya</td>\n",
       "      <td>UIZ</td>\n",
       "      <td>PH</td>\n",
       "      <td>Informatique</td>\n",
       "      <td>FFSD</td>\n",
       "      <td>chercheur a33</td>\n",
       "      <td>PES</td>\n",
       "      <td>Physique</td>\n",
       "      <td>MARO</td>\n",
       "      <td>Nombre de thèses encadrées</td>\n",
       "      <td>7.0</td>\n",
       "    </tr>\n",
       "    <tr>\n",
       "      <th>14</th>\n",
       "      <td>3.0</td>\n",
       "      <td>Amouri</td>\n",
       "      <td>Aya</td>\n",
       "      <td>UIZ</td>\n",
       "      <td>PH</td>\n",
       "      <td>Informatique</td>\n",
       "      <td>FFSD</td>\n",
       "      <td>chercheur a44</td>\n",
       "      <td>PA</td>\n",
       "      <td>Physique</td>\n",
       "      <td>MARO</td>\n",
       "      <td>Nombre de thèses encadrées</td>\n",
       "      <td>7.0</td>\n",
       "    </tr>\n",
       "    <tr>\n",
       "      <th>15</th>\n",
       "      <td>4.0</td>\n",
       "      <td>Hayoun</td>\n",
       "      <td>Adam</td>\n",
       "      <td>UCA</td>\n",
       "      <td>PES</td>\n",
       "      <td>Physique</td>\n",
       "      <td>CASIF</td>\n",
       "      <td>chercheur b1</td>\n",
       "      <td>PES</td>\n",
       "      <td>Physique</td>\n",
       "      <td>CASIF</td>\n",
       "      <td>Nombre des articles</td>\n",
       "      <td>15.0</td>\n",
       "    </tr>\n",
       "    <tr>\n",
       "      <th>16</th>\n",
       "      <td>4.0</td>\n",
       "      <td>Hayoun</td>\n",
       "      <td>Adam</td>\n",
       "      <td>UCA</td>\n",
       "      <td>PES</td>\n",
       "      <td>Physique</td>\n",
       "      <td>CASIF</td>\n",
       "      <td>chercheur b11</td>\n",
       "      <td>PH</td>\n",
       "      <td>Physique</td>\n",
       "      <td>CASIF</td>\n",
       "      <td>Nombre des communications</td>\n",
       "      <td>15.0</td>\n",
       "    </tr>\n",
       "    <tr>\n",
       "      <th>17</th>\n",
       "      <td>4.0</td>\n",
       "      <td>Hayoun</td>\n",
       "      <td>Adam</td>\n",
       "      <td>UCA</td>\n",
       "      <td>PES</td>\n",
       "      <td>Physique</td>\n",
       "      <td>CASIF</td>\n",
       "      <td>chercheur b11</td>\n",
       "      <td>PH</td>\n",
       "      <td>Physique</td>\n",
       "      <td>CASIF</td>\n",
       "      <td>Nombre de thèses encadrées</td>\n",
       "      <td>7.0</td>\n",
       "    </tr>\n",
       "  </tbody>\n",
       "</table>\n",
       "</div>"
      ],
      "text/plain": [
       "     Id      Nom Prenom Université Grade    Spécialité  \\\n",
       "0   NaN      NaN    NaN        NaN   NaN           NaN   \n",
       "1   1.0    Hakam  Amine       UM5R   PES  Informatique   \n",
       "2   1.0    Hakam  Amine       UM5R   PES  Informatique   \n",
       "3   1.0    Hakam  Amine       UM5R   PES  Informatique   \n",
       "4   1.0    Hakam  Amine       UM5R   PES  Informatique   \n",
       "5   2.0  Chakour  Hatim        UIT   PES  Informatique   \n",
       "6   2.0  Chakour  Hatim        UIT   PES  Informatique   \n",
       "7   2.0  Chakour  Hatim        UIT   PES  Informatique   \n",
       "8   2.0  Chakour  Hatim        UIT   PES  Informatique   \n",
       "9   2.0  Chakour  Hatim        UIT   PES  Informatique   \n",
       "10  3.0   Amouri    Aya        UIZ    PH  Informatique   \n",
       "11  3.0   Amouri    Aya        UIZ    PH  Informatique   \n",
       "12  3.0   Amouri    Aya        UIZ    PH  Informatique   \n",
       "13  3.0   Amouri    Aya        UIZ    PH  Informatique   \n",
       "14  3.0   Amouri    Aya        UIZ    PH  Informatique   \n",
       "15  4.0   Hayoun   Adam        UCA   PES      Physique   \n",
       "16  4.0   Hayoun   Adam        UCA   PES      Physique   \n",
       "17  4.0   Hayoun   Adam        UCA   PES      Physique   \n",
       "\n",
       "   Structure de recherche Porteuse  \\\n",
       "0                              NaN   \n",
       "1                             IPSS   \n",
       "2                             IPSS   \n",
       "3                             IPSS   \n",
       "4                             IPSS   \n",
       "5                             MISC   \n",
       "6                             MISC   \n",
       "7                             MISC   \n",
       "8                             MISC   \n",
       "9                             MISC   \n",
       "10                            FFSD   \n",
       "11                            FFSD   \n",
       "12                            FFSD   \n",
       "13                            FFSD   \n",
       "14                            FFSD   \n",
       "15                           CASIF   \n",
       "16                           CASIF   \n",
       "17                           CASIF   \n",
       "\n",
       "   Membre des structures de recherche partenaires Unnamed: 8    Unnamed: 9  \\\n",
       "0                                   Nom et Prénom      Grade    Spécialité   \n",
       "1                                     chercheur 1         PA  Informatique   \n",
       "2                                     chercheur 2        PES  Informatique   \n",
       "3                                     chercheur 3         PA  Informatique   \n",
       "4                                     chercheur 4         PA         Santé   \n",
       "5                                     chercheur A        PES      Physique   \n",
       "6                                     chercheur B        PES  Informatique   \n",
       "7                                     chercheur C         PH  Informatique   \n",
       "8                                     chercheur D         PA         Santé   \n",
       "9                                     chercheur E         PA      Physique   \n",
       "10                                   chercheur a1         PH  Informatique   \n",
       "11                                  chercheur a11         PH  Informatique   \n",
       "12                                  chercheur a22         PH    Electrique   \n",
       "13                                  chercheur a33        PES      Physique   \n",
       "14                                  chercheur a44         PA      Physique   \n",
       "15                                   chercheur b1        PES      Physique   \n",
       "16                                  chercheur b11         PH      Physique   \n",
       "17                                  chercheur b11         PH      Physique   \n",
       "\n",
       "                 Unnamed: 10  Publications Scientifiques  Unnamed: 12  \n",
       "0   Intitulé de la structure                         NaN          NaN  \n",
       "1                       IPSS         Nombre des articles         20.0  \n",
       "2                       SSBK  Nombre des communications          10.0  \n",
       "3                       MISC  Nombre de thèses encadrées          4.0  \n",
       "4                        H2C  Nombre de thèses encadrées          4.0  \n",
       "5                       KZEE         Nombre des articles         10.0  \n",
       "6                       S2SD  Nombre des communications           5.0  \n",
       "7                       MISC  Nombre de thèses encadrées          3.0  \n",
       "8                       MISC  Nombre de thèses encadrées          3.0  \n",
       "9                       KZEE  Nombre de thèses encadrées          3.0  \n",
       "10                      FFSD         Nombre des articles         15.0  \n",
       "11                      FFSD  Nombre des communications          15.0  \n",
       "12                       ZQW  Nombre de thèses encadrées          7.0  \n",
       "13                      MARO  Nombre de thèses encadrées          7.0  \n",
       "14                      MARO  Nombre de thèses encadrées          7.0  \n",
       "15                     CASIF         Nombre des articles         15.0  \n",
       "16                     CASIF  Nombre des communications          15.0  \n",
       "17                     CASIF  Nombre de thèses encadrées          7.0  "
      ]
     },
     "execution_count": 28,
     "metadata": {},
     "output_type": "execute_result"
    }
   ],
   "source": [
    "df = pd.read_excel('data/tp2pandas.xlsx')\n",
    "df1 = df.ffill(axis=0) #inverse de ffill = bffill\n",
    "df1"
   ]
  },
  {
   "cell_type": "markdown",
   "metadata": {},
   "source": [
    "# Question 1"
   ]
  },
  {
   "cell_type": "code",
   "execution_count": 29,
   "metadata": {},
   "outputs": [
    {
     "data": {
      "text/plain": [
       "0                            NaN\n",
       "1            Nombre des articles\n",
       "2     Nombre des communications \n",
       "3     Nombre de thèses encadrées\n",
       "4     Nombre de thèses encadrées\n",
       "5            Nombre des articles\n",
       "6     Nombre des communications \n",
       "7     Nombre de thèses encadrées\n",
       "8     Nombre de thèses encadrées\n",
       "9     Nombre de thèses encadrées\n",
       "10           Nombre des articles\n",
       "11    Nombre des communications \n",
       "12    Nombre de thèses encadrées\n",
       "13    Nombre de thèses encadrées\n",
       "14    Nombre de thèses encadrées\n",
       "15           Nombre des articles\n",
       "16    Nombre des communications \n",
       "17    Nombre de thèses encadrées\n",
       "Name: Publications Scientifiques, dtype: object"
      ]
     },
     "execution_count": 29,
     "metadata": {},
     "output_type": "execute_result"
    }
   ],
   "source": [
    "df_pub = df1['Publications Scientifiques']\n",
    "df_pub"
   ]
  },
  {
   "cell_type": "code",
   "execution_count": 30,
   "metadata": {},
   "outputs": [
    {
     "data": {
      "text/html": [
       "<div>\n",
       "<style scoped>\n",
       "    .dataframe tbody tr th:only-of-type {\n",
       "        vertical-align: middle;\n",
       "    }\n",
       "\n",
       "    .dataframe tbody tr th {\n",
       "        vertical-align: top;\n",
       "    }\n",
       "\n",
       "    .dataframe thead th {\n",
       "        text-align: right;\n",
       "    }\n",
       "</style>\n",
       "<table border=\"1\" class=\"dataframe\">\n",
       "  <thead>\n",
       "    <tr style=\"text-align: right;\">\n",
       "      <th></th>\n",
       "      <th>Id</th>\n",
       "      <th>Nom</th>\n",
       "      <th>Prenom</th>\n",
       "      <th>Université</th>\n",
       "      <th>Grade</th>\n",
       "      <th>Spécialité</th>\n",
       "      <th>Structure de recherche Porteuse</th>\n",
       "      <th>Membre des structures de recherche partenaires</th>\n",
       "      <th>Unnamed: 8</th>\n",
       "      <th>Unnamed: 9</th>\n",
       "      <th>Unnamed: 10</th>\n",
       "      <th>Publications Scientifiques</th>\n",
       "      <th>Unnamed: 12</th>\n",
       "    </tr>\n",
       "  </thead>\n",
       "  <tbody>\n",
       "    <tr>\n",
       "      <th>1</th>\n",
       "      <td>1.0</td>\n",
       "      <td>Hakam</td>\n",
       "      <td>Amine</td>\n",
       "      <td>UM5R</td>\n",
       "      <td>PES</td>\n",
       "      <td>Informatique</td>\n",
       "      <td>IPSS</td>\n",
       "      <td>chercheur 1</td>\n",
       "      <td>PA</td>\n",
       "      <td>Informatique</td>\n",
       "      <td>IPSS</td>\n",
       "      <td>Nombre des articles</td>\n",
       "      <td>20.0</td>\n",
       "    </tr>\n",
       "    <tr>\n",
       "      <th>5</th>\n",
       "      <td>2.0</td>\n",
       "      <td>Chakour</td>\n",
       "      <td>Hatim</td>\n",
       "      <td>UIT</td>\n",
       "      <td>PES</td>\n",
       "      <td>Informatique</td>\n",
       "      <td>MISC</td>\n",
       "      <td>chercheur A</td>\n",
       "      <td>PES</td>\n",
       "      <td>Physique</td>\n",
       "      <td>KZEE</td>\n",
       "      <td>Nombre des articles</td>\n",
       "      <td>10.0</td>\n",
       "    </tr>\n",
       "    <tr>\n",
       "      <th>10</th>\n",
       "      <td>3.0</td>\n",
       "      <td>Amouri</td>\n",
       "      <td>Aya</td>\n",
       "      <td>UIZ</td>\n",
       "      <td>PH</td>\n",
       "      <td>Informatique</td>\n",
       "      <td>FFSD</td>\n",
       "      <td>chercheur a1</td>\n",
       "      <td>PH</td>\n",
       "      <td>Informatique</td>\n",
       "      <td>FFSD</td>\n",
       "      <td>Nombre des articles</td>\n",
       "      <td>15.0</td>\n",
       "    </tr>\n",
       "    <tr>\n",
       "      <th>15</th>\n",
       "      <td>4.0</td>\n",
       "      <td>Hayoun</td>\n",
       "      <td>Adam</td>\n",
       "      <td>UCA</td>\n",
       "      <td>PES</td>\n",
       "      <td>Physique</td>\n",
       "      <td>CASIF</td>\n",
       "      <td>chercheur b1</td>\n",
       "      <td>PES</td>\n",
       "      <td>Physique</td>\n",
       "      <td>CASIF</td>\n",
       "      <td>Nombre des articles</td>\n",
       "      <td>15.0</td>\n",
       "    </tr>\n",
       "  </tbody>\n",
       "</table>\n",
       "</div>"
      ],
      "text/plain": [
       "     Id      Nom Prenom Université Grade    Spécialité  \\\n",
       "1   1.0    Hakam  Amine       UM5R   PES  Informatique   \n",
       "5   2.0  Chakour  Hatim        UIT   PES  Informatique   \n",
       "10  3.0   Amouri    Aya        UIZ    PH  Informatique   \n",
       "15  4.0   Hayoun   Adam        UCA   PES      Physique   \n",
       "\n",
       "   Structure de recherche Porteuse  \\\n",
       "1                             IPSS   \n",
       "5                             MISC   \n",
       "10                            FFSD   \n",
       "15                           CASIF   \n",
       "\n",
       "   Membre des structures de recherche partenaires Unnamed: 8    Unnamed: 9  \\\n",
       "1                                     chercheur 1         PA  Informatique   \n",
       "5                                     chercheur A        PES      Physique   \n",
       "10                                   chercheur a1         PH  Informatique   \n",
       "15                                   chercheur b1        PES      Physique   \n",
       "\n",
       "   Unnamed: 10 Publications Scientifiques  Unnamed: 12  \n",
       "1         IPSS        Nombre des articles         20.0  \n",
       "5         KZEE        Nombre des articles         10.0  \n",
       "10        FFSD        Nombre des articles         15.0  \n",
       "15       CASIF        Nombre des articles         15.0  "
      ]
     },
     "execution_count": 30,
     "metadata": {},
     "output_type": "execute_result"
    }
   ],
   "source": [
    "df1[df_pub.str.contains(\"articles\")==True]"
   ]
  },
  {
   "cell_type": "code",
   "execution_count": 31,
   "metadata": {},
   "outputs": [
    {
     "name": "stdout",
     "output_type": "stream",
     "text": [
      "Hakam Amine = 20.0 articles\n",
      "Chakour Hatim = 10.0 articles\n",
      "Amouri Aya = 15.0 articles\n",
      "Hayoun Adam = 15.0 articles\n"
     ]
    }
   ],
   "source": [
    "df_article = df1[df_pub.str.contains(\"articles\")==True]\n",
    "for i in range(len(df_article)):\n",
    "    print(df_article.iloc[i,1],df_article.iloc[i,2],\"=\",df_article.iloc[i,12],\"articles\")"
   ]
  },
  {
   "cell_type": "markdown",
   "metadata": {},
   "source": [
    "# Question 2"
   ]
  },
  {
   "cell_type": "code",
   "execution_count": 32,
   "metadata": {},
   "outputs": [
    {
     "name": "stdout",
     "output_type": "stream",
     "text": [
      "Hakam Amine = 10.0 communications\n",
      "Chakour Hatim = 5.0 communications\n",
      "Amouri Aya = 15.0 communications\n",
      "Hayoun Adam = 15.0 communications\n"
     ]
    }
   ],
   "source": [
    "df_comms = df1[df_pub.str.contains(\"communications\")==True]\n",
    "for index, row in df_comms.iterrows():\n",
    "    print(row.iloc[1],row.iloc[2],\"=\",row.iloc[12],\"communications\")"
   ]
  },
  {
   "cell_type": "markdown",
   "metadata": {},
   "source": [
    "# Question 3"
   ]
  },
  {
   "cell_type": "code",
   "execution_count": 33,
   "metadata": {},
   "outputs": [
    {
     "name": "stdout",
     "output_type": "stream",
     "text": [
      "Hakam Amine = 4.0 thèses encadrées\n",
      "Chakour Hatim = 3.0 thèses encadrées\n",
      "Amouri Aya = 7.0 thèses encadrées\n",
      "Hayoun Adam = 7.0 thèses encadrées\n"
     ]
    }
   ],
   "source": [
    "df_these = df1[df_pub.str.contains('thèses')==True].drop_duplicates(\"Nom\") \n",
    "for i in range(len(df_these)):\n",
    "    print(df_these.iloc[i,1],df_these.iloc[i,2],\"=\",df_these.iloc[i,12],\"thèses encadrées\")"
   ]
  },
  {
   "cell_type": "markdown",
   "metadata": {},
   "source": [
    "# Question 4"
   ]
  },
  {
   "cell_type": "markdown",
   "metadata": {},
   "source": [
    "**methode1**"
   ]
  },
  {
   "cell_type": "code",
   "execution_count": 34,
   "metadata": {},
   "outputs": [
    {
     "name": "stdout",
     "output_type": "stream",
     "text": [
      "Hakam Amine = 34.0 publications\n",
      "Chakour Hatim = 18.0 publications\n",
      "Amouri Aya = 37.0 publications\n",
      "Hayoun Adam = 37.0 publications\n"
     ]
    }
   ],
   "source": [
    "for i in range(len(df_article)):\n",
    "    somme = df_article.iloc[i,12]+df_comms.iloc[i,12]+df_these.iloc[i,12]\n",
    "    print(df_article.iloc[i,1],df_article.iloc[i,2],\"=\",somme,\"publications\")"
   ]
  },
  {
   "cell_type": "markdown",
   "metadata": {},
   "source": [
    "**methode2**"
   ]
  },
  {
   "cell_type": "code",
   "execution_count": 35,
   "metadata": {},
   "outputs": [
    {
     "data": {
      "text/plain": [
       "Nom      Prenom\n",
       "Amouri   Aya       37.0\n",
       "Chakour  Hatim     18.0\n",
       "Hakam    Amine     34.0\n",
       "Hayoun   Adam      37.0\n",
       "Name: Unnamed: 12, dtype: float64"
      ]
     },
     "execution_count": 35,
     "metadata": {},
     "output_type": "execute_result"
    }
   ],
   "source": [
    "df_somme = df.dropna(subset=['Publications Scientifiques']).ffill()\n",
    "df_somme.groupby(['Nom','Prenom'])['Unnamed: 12'].sum()"
   ]
  },
  {
   "cell_type": "markdown",
   "metadata": {},
   "source": [
    "# Question 5"
   ]
  },
  {
   "cell_type": "code",
   "execution_count": null,
   "metadata": {},
   "outputs": [],
   "source": [
    "df"
   ]
  },
  {
   "cell_type": "markdown",
   "metadata": {},
   "source": [
    "**methode1**"
   ]
  },
  {
   "cell_type": "code",
   "execution_count": 37,
   "metadata": {},
   "outputs": [
    {
     "data": {
      "text/html": [
       "<div>\n",
       "<style scoped>\n",
       "    .dataframe tbody tr th:only-of-type {\n",
       "        vertical-align: middle;\n",
       "    }\n",
       "\n",
       "    .dataframe tbody tr th {\n",
       "        vertical-align: top;\n",
       "    }\n",
       "\n",
       "    .dataframe thead th {\n",
       "        text-align: right;\n",
       "    }\n",
       "</style>\n",
       "<table border=\"1\" class=\"dataframe\">\n",
       "  <thead>\n",
       "    <tr style=\"text-align: right;\">\n",
       "      <th></th>\n",
       "      <th>Nom</th>\n",
       "      <th>Prenom</th>\n",
       "      <th>Membre des structures de recherche partenaires</th>\n",
       "    </tr>\n",
       "  </thead>\n",
       "  <tbody>\n",
       "    <tr>\n",
       "      <th>0</th>\n",
       "      <td>Amouri</td>\n",
       "      <td>Aya</td>\n",
       "      <td>5</td>\n",
       "    </tr>\n",
       "    <tr>\n",
       "      <th>1</th>\n",
       "      <td>Chakour</td>\n",
       "      <td>Hatim</td>\n",
       "      <td>5</td>\n",
       "    </tr>\n",
       "    <tr>\n",
       "      <th>2</th>\n",
       "      <td>Hakam</td>\n",
       "      <td>Amine</td>\n",
       "      <td>4</td>\n",
       "    </tr>\n",
       "    <tr>\n",
       "      <th>3</th>\n",
       "      <td>Hayoun</td>\n",
       "      <td>Adam</td>\n",
       "      <td>2</td>\n",
       "    </tr>\n",
       "  </tbody>\n",
       "</table>\n",
       "</div>"
      ],
      "text/plain": [
       "       Nom Prenom  Membre des structures de recherche partenaires\n",
       "0   Amouri    Aya                                               5\n",
       "1  Chakour  Hatim                                               5\n",
       "2    Hakam  Amine                                               4\n",
       "3   Hayoun   Adam                                               2"
      ]
     },
     "execution_count": 37,
     "metadata": {},
     "output_type": "execute_result"
    }
   ],
   "source": [
    "nb_recherche = df1.drop_duplicates(subset=['Membre des structures de recherche partenaires']).ffill()\n",
    "nb_recherche.groupby(['Nom','Prenom'])['Membre des structures de recherche partenaires'].count().reset_index()"
   ]
  },
  {
   "cell_type": "markdown",
   "metadata": {},
   "source": [
    "**methode2**"
   ]
  },
  {
   "cell_type": "code",
   "execution_count": 38,
   "metadata": {},
   "outputs": [
    {
     "data": {
      "text/html": [
       "<div>\n",
       "<style scoped>\n",
       "    .dataframe tbody tr th:only-of-type {\n",
       "        vertical-align: middle;\n",
       "    }\n",
       "\n",
       "    .dataframe tbody tr th {\n",
       "        vertical-align: top;\n",
       "    }\n",
       "\n",
       "    .dataframe thead th {\n",
       "        text-align: right;\n",
       "    }\n",
       "</style>\n",
       "<table border=\"1\" class=\"dataframe\">\n",
       "  <thead>\n",
       "    <tr style=\"text-align: right;\">\n",
       "      <th></th>\n",
       "      <th>Nom</th>\n",
       "      <th>Prenom</th>\n",
       "      <th>Membre des structures de recherche partenaires</th>\n",
       "    </tr>\n",
       "  </thead>\n",
       "  <tbody>\n",
       "    <tr>\n",
       "      <th>0</th>\n",
       "      <td>Amouri</td>\n",
       "      <td>Aya</td>\n",
       "      <td>5</td>\n",
       "    </tr>\n",
       "    <tr>\n",
       "      <th>1</th>\n",
       "      <td>Chakour</td>\n",
       "      <td>Hatim</td>\n",
       "      <td>5</td>\n",
       "    </tr>\n",
       "    <tr>\n",
       "      <th>2</th>\n",
       "      <td>Hakam</td>\n",
       "      <td>Amine</td>\n",
       "      <td>4</td>\n",
       "    </tr>\n",
       "    <tr>\n",
       "      <th>3</th>\n",
       "      <td>Hayoun</td>\n",
       "      <td>Adam</td>\n",
       "      <td>2</td>\n",
       "    </tr>\n",
       "  </tbody>\n",
       "</table>\n",
       "</div>"
      ],
      "text/plain": [
       "       Nom Prenom  Membre des structures de recherche partenaires\n",
       "0   Amouri    Aya                                               5\n",
       "1  Chakour  Hatim                                               5\n",
       "2    Hakam  Amine                                               4\n",
       "3   Hayoun   Adam                                               2"
      ]
     },
     "execution_count": 38,
     "metadata": {},
     "output_type": "execute_result"
    }
   ],
   "source": [
    "nb_recherche = df.dropna(subset=['Membre des structures de recherche partenaires']).ffill()\n",
    "nb_recherche.groupby(['Nom','Prenom'])['Membre des structures de recherche partenaires'].count().reset_index()"
   ]
  },
  {
   "cell_type": "markdown",
   "metadata": {},
   "source": [
    "# Question 6"
   ]
  },
  {
   "cell_type": "code",
   "execution_count": null,
   "metadata": {},
   "outputs": [],
   "source": [
    "nb_recherche"
   ]
  },
  {
   "cell_type": "markdown",
   "metadata": {},
   "source": [
    "Fonction de supprimer les duplique dans une df"
   ]
  },
  {
   "cell_type": "code",
   "execution_count": 40,
   "metadata": {},
   "outputs": [],
   "source": [
    "def supprimer_duplique(data):\n",
    "    data_unique = []\n",
    "    for i in data:\n",
    "        if i not in data_unique:\n",
    "            data_unique.append(i)\n",
    "    return ','.join(data_unique)"
   ]
  },
  {
   "cell_type": "markdown",
   "metadata": {},
   "source": [
    "**methode1**"
   ]
  },
  {
   "cell_type": "code",
   "execution_count": 41,
   "metadata": {},
   "outputs": [
    {
     "data": {
      "text/plain": [
       "Nom      Prenom\n",
       "Amouri   Aya            FFSD,ZQW,MARO\n",
       "Chakour  Hatim         KZEE,S2SD,MISC\n",
       "Hakam    Amine     IPSS,SSBK,MISC,H2C\n",
       "Hayoun   Adam                   CASIF\n",
       "Name: Unnamed: 10, dtype: object"
      ]
     },
     "execution_count": 41,
     "metadata": {},
     "output_type": "execute_result"
    }
   ],
   "source": [
    "intitule = nb_recherche.groupby(['Nom','Prenom'])['Unnamed: 10'].agg(supprimer_duplique)\n",
    "intitule"
   ]
  },
  {
   "cell_type": "markdown",
   "metadata": {},
   "source": [
    "**methode2**"
   ]
  },
  {
   "cell_type": "code",
   "execution_count": 42,
   "metadata": {},
   "outputs": [
    {
     "data": {
      "text/html": [
       "<div>\n",
       "<style scoped>\n",
       "    .dataframe tbody tr th:only-of-type {\n",
       "        vertical-align: middle;\n",
       "    }\n",
       "\n",
       "    .dataframe tbody tr th {\n",
       "        vertical-align: top;\n",
       "    }\n",
       "\n",
       "    .dataframe thead th {\n",
       "        text-align: right;\n",
       "    }\n",
       "</style>\n",
       "<table border=\"1\" class=\"dataframe\">\n",
       "  <thead>\n",
       "    <tr style=\"text-align: right;\">\n",
       "      <th></th>\n",
       "      <th>Nom</th>\n",
       "      <th>Prenom</th>\n",
       "      <th>Unnamed: 10</th>\n",
       "    </tr>\n",
       "  </thead>\n",
       "  <tbody>\n",
       "    <tr>\n",
       "      <th>0</th>\n",
       "      <td>Amouri</td>\n",
       "      <td>Aya</td>\n",
       "      <td>[FFSD, ZQW, MARO]</td>\n",
       "    </tr>\n",
       "    <tr>\n",
       "      <th>1</th>\n",
       "      <td>Chakour</td>\n",
       "      <td>Hatim</td>\n",
       "      <td>[KZEE, S2SD, MISC]</td>\n",
       "    </tr>\n",
       "    <tr>\n",
       "      <th>2</th>\n",
       "      <td>Hakam</td>\n",
       "      <td>Amine</td>\n",
       "      <td>[IPSS, SSBK, MISC, H2C]</td>\n",
       "    </tr>\n",
       "    <tr>\n",
       "      <th>3</th>\n",
       "      <td>Hayoun</td>\n",
       "      <td>Adam</td>\n",
       "      <td>[CASIF]</td>\n",
       "    </tr>\n",
       "  </tbody>\n",
       "</table>\n",
       "</div>"
      ],
      "text/plain": [
       "       Nom Prenom              Unnamed: 10\n",
       "0   Amouri    Aya        [FFSD, ZQW, MARO]\n",
       "1  Chakour  Hatim       [KZEE, S2SD, MISC]\n",
       "2    Hakam  Amine  [IPSS, SSBK, MISC, H2C]\n",
       "3   Hayoun   Adam                  [CASIF]"
      ]
     },
     "execution_count": 42,
     "metadata": {},
     "output_type": "execute_result"
    }
   ],
   "source": [
    "intitule = nb_recherche.groupby(['Nom','Prenom'])['Unnamed: 10'].unique().apply(list)\n",
    "intitule.reset_index()\n"
   ]
  },
  {
   "cell_type": "markdown",
   "metadata": {},
   "source": [
    "# Question 7"
   ]
  },
  {
   "cell_type": "code",
   "execution_count": null,
   "metadata": {},
   "outputs": [],
   "source": [
    "df"
   ]
  },
  {
   "cell_type": "code",
   "execution_count": 44,
   "metadata": {},
   "outputs": [],
   "source": [
    "specialite = df.dropna(subset=['Unnamed: 9']).ffill(axis=0)"
   ]
  },
  {
   "cell_type": "markdown",
   "metadata": {},
   "source": [
    "**methode1**"
   ]
  },
  {
   "cell_type": "code",
   "execution_count": 45,
   "metadata": {},
   "outputs": [
    {
     "data": {
      "text/plain": [
       "Nom      Prenom\n",
       "Amouri   Aya       Informatique,Electrique,Physique\n",
       "Chakour  Hatim          Physique,Informatique,Santé\n",
       "Hakam    Amine                   Informatique,Santé\n",
       "Hayoun   Adam                              Physique\n",
       "Name: Unnamed: 9, dtype: object"
      ]
     },
     "execution_count": 45,
     "metadata": {},
     "output_type": "execute_result"
    }
   ],
   "source": [
    "specialite.groupby(['Nom','Prenom'])['Unnamed: 9'].agg(supprimer_duplique)"
   ]
  },
  {
   "cell_type": "markdown",
   "metadata": {},
   "source": [
    "**methode2**"
   ]
  },
  {
   "cell_type": "code",
   "execution_count": 46,
   "metadata": {},
   "outputs": [
    {
     "data": {
      "text/html": [
       "<div>\n",
       "<style scoped>\n",
       "    .dataframe tbody tr th:only-of-type {\n",
       "        vertical-align: middle;\n",
       "    }\n",
       "\n",
       "    .dataframe tbody tr th {\n",
       "        vertical-align: top;\n",
       "    }\n",
       "\n",
       "    .dataframe thead th {\n",
       "        text-align: right;\n",
       "    }\n",
       "</style>\n",
       "<table border=\"1\" class=\"dataframe\">\n",
       "  <thead>\n",
       "    <tr style=\"text-align: right;\">\n",
       "      <th></th>\n",
       "      <th>Nom</th>\n",
       "      <th>Prenom</th>\n",
       "      <th>Unnamed: 9</th>\n",
       "    </tr>\n",
       "  </thead>\n",
       "  <tbody>\n",
       "    <tr>\n",
       "      <th>0</th>\n",
       "      <td>Amouri</td>\n",
       "      <td>Aya</td>\n",
       "      <td>[Informatique, Electrique, Physique]</td>\n",
       "    </tr>\n",
       "    <tr>\n",
       "      <th>1</th>\n",
       "      <td>Chakour</td>\n",
       "      <td>Hatim</td>\n",
       "      <td>[Physique, Informatique, Santé]</td>\n",
       "    </tr>\n",
       "    <tr>\n",
       "      <th>2</th>\n",
       "      <td>Hakam</td>\n",
       "      <td>Amine</td>\n",
       "      <td>[Informatique, Santé]</td>\n",
       "    </tr>\n",
       "    <tr>\n",
       "      <th>3</th>\n",
       "      <td>Hayoun</td>\n",
       "      <td>Adam</td>\n",
       "      <td>[Physique]</td>\n",
       "    </tr>\n",
       "  </tbody>\n",
       "</table>\n",
       "</div>"
      ],
      "text/plain": [
       "       Nom Prenom                            Unnamed: 9\n",
       "0   Amouri    Aya  [Informatique, Electrique, Physique]\n",
       "1  Chakour  Hatim       [Physique, Informatique, Santé]\n",
       "2    Hakam  Amine                 [Informatique, Santé]\n",
       "3   Hayoun   Adam                            [Physique]"
      ]
     },
     "execution_count": 46,
     "metadata": {},
     "output_type": "execute_result"
    }
   ],
   "source": [
    "specialite.groupby(['Nom','Prenom'])['Unnamed: 9'].unique().apply(list).reset_index()"
   ]
  },
  {
   "cell_type": "markdown",
   "metadata": {},
   "source": [
    "# Question 8"
   ]
  },
  {
   "cell_type": "code",
   "execution_count": null,
   "metadata": {},
   "outputs": [],
   "source": [
    "df1"
   ]
  },
  {
   "cell_type": "markdown",
   "metadata": {},
   "source": [
    "**methode1**"
   ]
  },
  {
   "cell_type": "code",
   "execution_count": 48,
   "metadata": {},
   "outputs": [
    {
     "data": {
      "text/html": [
       "<div>\n",
       "<style scoped>\n",
       "    .dataframe tbody tr th:only-of-type {\n",
       "        vertical-align: middle;\n",
       "    }\n",
       "\n",
       "    .dataframe tbody tr th {\n",
       "        vertical-align: top;\n",
       "    }\n",
       "\n",
       "    .dataframe thead th {\n",
       "        text-align: right;\n",
       "    }\n",
       "</style>\n",
       "<table border=\"1\" class=\"dataframe\">\n",
       "  <thead>\n",
       "    <tr style=\"text-align: right;\">\n",
       "      <th></th>\n",
       "      <th>Nom</th>\n",
       "      <th>Prenom</th>\n",
       "    </tr>\n",
       "  </thead>\n",
       "  <tbody>\n",
       "    <tr>\n",
       "      <th>1</th>\n",
       "      <td>Hakam</td>\n",
       "      <td>Amine</td>\n",
       "    </tr>\n",
       "  </tbody>\n",
       "</table>\n",
       "</div>"
      ],
      "text/plain": [
       "     Nom Prenom\n",
       "1  Hakam  Amine"
      ]
     },
     "execution_count": 48,
     "metadata": {},
     "output_type": "execute_result"
    }
   ],
   "source": [
    "val = int(input(\"Entrer l'id du chercheur :\"))\n",
    "df_id = df1.iloc[:,1:3].where(df[\"Id\"]==val).drop_duplicates().dropna()\n",
    "df_id"
   ]
  },
  {
   "cell_type": "markdown",
   "metadata": {},
   "source": [
    "**methode2**"
   ]
  },
  {
   "cell_type": "code",
   "execution_count": 49,
   "metadata": {},
   "outputs": [
    {
     "data": {
      "text/plain": [
       "Nom       Hakam\n",
       "Prenom    Amine\n",
       "Name: 1.0, dtype: object"
      ]
     },
     "execution_count": 49,
     "metadata": {},
     "output_type": "execute_result"
    }
   ],
   "source": [
    "val = int(input(\"Entrer l'id du chercheur :\"))\n",
    "df_id = df1[['Id','Nom','Prenom']].drop_duplicates().set_index('Id').dropna()\n",
    "df_id.loc[val]"
   ]
  },
  {
   "cell_type": "markdown",
   "metadata": {},
   "source": [
    "# Question 9"
   ]
  },
  {
   "cell_type": "code",
   "execution_count": null,
   "metadata": {},
   "outputs": [],
   "source": [
    "df1"
   ]
  },
  {
   "cell_type": "code",
   "execution_count": 64,
   "metadata": {},
   "outputs": [
    {
     "name": "stdout",
     "output_type": "stream",
     "text": [
      "Id : 1.0\n",
      "Nom : Hakam\n",
      "Prenom : Amine\n",
      "Université : UM5R\n",
      "Grade : PES\n",
      "Spécialité : Informatique\n",
      "Structure de recherche Porteuse : IPSS\n",
      "\n",
      "  Nom et prenom Grade    Specialite Intitulé de la structure\n",
      "1   chercheur 1    PA  Informatique                     IPSS\n",
      "2   chercheur 2   PES  Informatique                     SSBK\n",
      "3   chercheur 3    PA  Informatique                     MISC\n",
      "4   chercheur 4    PA         Santé                      H2C\n",
      "\n"
     ]
    },
    {
     "data": {
      "text/html": [
       "<div>\n",
       "<style scoped>\n",
       "    .dataframe tbody tr th:only-of-type {\n",
       "        vertical-align: middle;\n",
       "    }\n",
       "\n",
       "    .dataframe tbody tr th {\n",
       "        vertical-align: top;\n",
       "    }\n",
       "\n",
       "    .dataframe thead th {\n",
       "        text-align: right;\n",
       "    }\n",
       "</style>\n",
       "<table border=\"1\" class=\"dataframe\">\n",
       "  <thead>\n",
       "    <tr style=\"text-align: right;\">\n",
       "      <th></th>\n",
       "      <th></th>\n",
       "    </tr>\n",
       "    <tr>\n",
       "      <th>Publications Scientifiques</th>\n",
       "      <th></th>\n",
       "    </tr>\n",
       "  </thead>\n",
       "  <tbody>\n",
       "    <tr>\n",
       "      <th>Nombre des articles</th>\n",
       "      <td>20.0</td>\n",
       "    </tr>\n",
       "    <tr>\n",
       "      <th>Nombre des communications</th>\n",
       "      <td>10.0</td>\n",
       "    </tr>\n",
       "    <tr>\n",
       "      <th>Nombre de thèses encadrées</th>\n",
       "      <td>4.0</td>\n",
       "    </tr>\n",
       "  </tbody>\n",
       "</table>\n",
       "</div>"
      ],
      "text/plain": [
       "                                \n",
       "Publications Scientifiques      \n",
       "Nombre des articles         20.0\n",
       "Nombre des communications   10.0\n",
       "Nombre de thèses encadrées   4.0"
      ]
     },
     "execution_count": 64,
     "metadata": {},
     "output_type": "execute_result"
    }
   ],
   "source": [
    "id = int(input(\"Entrer l'id du chercheur :\"))\n",
    "#info personne\n",
    "df_id = df1.drop_duplicates('Id').set_index('Id')\n",
    "print(df_id[['Nom','Prenom','Université','Grade','Spécialité','Structure de recherche Porteuse']].loc[id])\n",
    "#autre methode\n",
    "df_id = df1.drop_duplicates('Nom').dropna()\n",
    "for i in range(7):\n",
    "    print(df_id.columns[i],\":\",df_id.iloc[id-1,i])\n",
    "print()\n",
    "#info chercheurs\n",
    "members = df1[df1['Id'] == id].iloc[:,7:11].set_axis(['Nom et prenom','Grade','Specialite','Intitulé de la structure'],axis=1)\n",
    "print(members)\n",
    "print()\n",
    "#info publication scientifiques\n",
    "publication = df1[df1['Id']==id].iloc[:,[11,12]].drop_duplicates('Publications Scientifiques').set_index('Publications Scientifiques').rename(columns={'Unnamed: 12':''})\n",
    "publication"
   ]
  }
 ],
 "metadata": {
  "kernelspec": {
   "display_name": "Python 3 (ipykernel)",
   "language": "python",
   "name": "python3"
  },
  "language_info": {
   "codemirror_mode": {
    "name": "ipython",
    "version": 3
   },
   "file_extension": ".py",
   "mimetype": "text/x-python",
   "name": "python",
   "nbconvert_exporter": "python",
   "pygments_lexer": "ipython3",
   "version": "3.11.5"
  }
 },
 "nbformat": 4,
 "nbformat_minor": 4
}
