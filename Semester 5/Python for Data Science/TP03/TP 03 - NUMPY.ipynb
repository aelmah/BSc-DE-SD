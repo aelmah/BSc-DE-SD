{
 "cells": [
  {
   "cell_type": "code",
   "execution_count": null,
   "metadata": {},
   "outputs": [],
   "source": [
    "import numpy as np"
   ]
  },
  {
   "cell_type": "markdown",
   "metadata": {},
   "source": [
    "EX1"
   ]
  },
  {
   "cell_type": "code",
   "execution_count": null,
   "metadata": {},
   "outputs": [],
   "source": [
    "a = np.array([1,2,3,4,5,6])\n",
    "a.reshape(2,3)"
   ]
  },
  {
   "cell_type": "markdown",
   "metadata": {},
   "source": [
    "Ex2"
   ]
  },
  {
   "cell_type": "code",
   "execution_count": null,
   "metadata": {},
   "outputs": [],
   "source": [
    "np.random.randint(1,100,10) #min max size"
   ]
  },
  {
   "cell_type": "markdown",
   "metadata": {},
   "source": [
    "Ex3"
   ]
  },
  {
   "cell_type": "code",
   "execution_count": null,
   "metadata": {},
   "outputs": [],
   "source": [
    "a = np.array([[1,2,3],[4,5,6],[7,8,9]])\n",
    "print(a)\n",
    "#for i in range(0,a.shape[0]):\n",
    "#    for j in range(0,a.shape[1]):\n",
    "#        if(a[i,j]%2 != 0):\n",
    "#            a[i,j] = -1\n",
    "a[a%2==1]=-1\n",
    "print(a)"
   ]
  },
  {
   "cell_type": "markdown",
   "metadata": {},
   "source": [
    "Ex4"
   ]
  },
  {
   "cell_type": "code",
   "execution_count": null,
   "metadata": {},
   "outputs": [],
   "source": [
    "def fahrenheit(celsius):\n",
    "    return (celsius*9/5)+23\n",
    "cels = np.array([21,28,31,41,-1,-13])\n",
    "fahr = np.array(fahrenheit(cels)) #ou directement fahr = fahrenheit(cels) \n",
    "for C,F in zip(cels,fahr):\n",
    "    print(f\"{C} °C = {F} °F\")\n",
    "#print(\"Temp en celsius : \\n\",cels)\n",
    "#print(\"Temp en Fahrenheit : \\n\",fahrenheit(cels))\n",
    "#fahr = lambda a :( a * 9/5)+32 print(\"Temp en Fahrenheit : \\n\",fahr(cels))"
   ]
  },
  {
   "cell_type": "markdown",
   "metadata": {},
   "source": [
    "Ex5"
   ]
  },
  {
   "cell_type": "code",
   "execution_count": null,
   "metadata": {},
   "outputs": [],
   "source": [
    "a = np.random.randint(1,100,(3,3))\n",
    "print(a)\n",
    "print(\"La moyenne : \",np.mean(a))\n",
    "print(\"La mediane : \",np.median(a))\n",
    "print(\"L'ecart type : \",np.std(a))"
   ]
  },
  {
   "cell_type": "markdown",
   "metadata": {},
   "source": [
    "Ex6"
   ]
  },
  {
   "cell_type": "code",
   "execution_count": null,
   "metadata": {},
   "outputs": [],
   "source": [
    "temperature = np.random.randint(10,25,30)\n",
    "print(temperature)\n",
    "print(f\"La temperature moyenne : {np.mean(temperature)}\")\n",
    "a=[]\n",
    "for i in range(0,temperature.shape[0]):\n",
    "    if temperature[i] > 20:\n",
    "        a.append(i+1)\n",
    "print(f\"Les jours avec temp superieur a 20°C : {a}\")\n",
    "print(f\"Le jour avec la temperature maximale est le {np.argmax(temperature)+1} jour\")\n",
    "    "
   ]
  },
  {
   "cell_type": "markdown",
   "metadata": {},
   "source": [
    "Ex7"
   ]
  },
  {
   "cell_type": "code",
   "execution_count": null,
   "metadata": {},
   "outputs": [],
   "source": [
    "notes = np.random.randint(0,20,40)\n",
    "print(notes)\n",
    "a=[]\n",
    "for i in range(0,notes.shape[0]):\n",
    "    if notes[i] >= 10:\n",
    "        a.append(i+1)\n",
    "print(f\"La note moyenne : {np.mean(notes)}\")\n",
    "print(f\"Les eleves qui ont reussi : {a}\")\n",
    "print(f\"Le nombres d'eleve qui ont reussi : {notes[notes>=10].size}\")\n",
    "print(f\"L'eleve le plus performant est le {np.argmax(notes)+1} élève\")"
   ]
  },
  {
   "cell_type": "markdown",
   "metadata": {},
   "source": [
    "Ex8"
   ]
  },
  {
   "cell_type": "code",
   "execution_count": null,
   "metadata": {},
   "outputs": [],
   "source": [
    "noteAvant = np.random.randint(0,20,10)\n",
    "noteApres = np.random.randint(0,20,10)\n",
    "print(\"note avant :\",noteAvant)\n",
    "print(\"note apres :\",noteApres)\n",
    "amelioration=noteApres-noteAvant\n",
    "a=[]\n",
    "b = []\n",
    "\n",
    "#print(\"Les eleve qui ont ameliorer leur note : \")\n",
    "for i ,j in enumerate (amelioration):\n",
    "    if j > 0:\n",
    "        #print(f\"l'leleve {i+1} amelioration {j}\")\n",
    "        b.append(i+1)\n",
    "    if j == np.max(amelioration):\n",
    "        a.append(i+1)\n",
    "        \n",
    "print(amelioration)\n",
    "print(f\"L'amelioration moyenne des notes : {np.mean(amelioration)}\")\n",
    "print(f\"Les etudiants qui ont l'amelioration la plus significative  : {a}\")\n",
    "print(f\"Les eleve qui ont ameliorer leur note : {b}\")\n"
   ]
  },
  {
   "cell_type": "markdown",
   "metadata": {},
   "source": [
    "Ex9"
   ]
  },
  {
   "cell_type": "code",
   "execution_count": null,
   "metadata": {},
   "outputs": [],
   "source": [
    "score = np.random.randint(0,10,30)\n",
    "print(score)\n",
    "satisfait=[]\n",
    "nonSatisfait=[]\n",
    "\n",
    "for i,j in enumerate(score): #enumerate i = index j = val\n",
    "    if j >= 6:\n",
    "        satisfait.append(i+1)\n",
    "    if j == np.min(score):\n",
    "        nonSatisfait.append(i+1)\n",
    "    \n",
    "\n",
    "print(f\"Le score moyenne : {np.mean(score)}\")\n",
    "print(f\"Le nombre des client satisfait : {len(satisfait)}\")#score[score>=6].size\n",
    "print(f\"Les client satisfait : {satisfait}\")\n",
    "print(f\"Le nombre des client non satisfait : {len(nonSatisfait)}\")\n",
    "print(f\"Les clients avec la satisfaction la plus bas sont : {nonSatisfait}\")"
   ]
  },
  {
   "cell_type": "markdown",
   "metadata": {},
   "source": [
    "Ex10"
   ]
  },
  {
   "cell_type": "code",
   "execution_count": null,
   "metadata": {},
   "outputs": [],
   "source": [
    "matrix = np.random.randint(0,20,(4,4))\n",
    "print(matrix)\n",
    "sommeLigne = np.sum(matrix,axis=1)\n",
    "sommeColones = np.sum(matrix,axis=0)\n",
    "print(\"Somme des lignes : \",sommeLigne)\n",
    "print(\"Somme des colones : \",sommeColones)\n"
   ]
  }
 ],
 "metadata": {
  "kernelspec": {
   "display_name": "Python 3 (ipykernel)",
   "language": "python",
   "name": "python3"
  },
  "language_info": {
   "codemirror_mode": {
    "name": "ipython",
    "version": 3
   },
   "file_extension": ".py",
   "mimetype": "text/x-python",
   "name": "python",
   "nbconvert_exporter": "python",
   "pygments_lexer": "ipython3",
   "version": "3.11.5"
  }
 },
 "nbformat": 4,
 "nbformat_minor": 4
}
